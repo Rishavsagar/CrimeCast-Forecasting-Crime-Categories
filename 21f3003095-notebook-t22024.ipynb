{
 "cells": [
  {
   "cell_type": "code",
   "execution_count": 1,
   "id": "a44f7d29",
   "metadata": {
    "_cell_guid": "b1076dfc-b9ad-4769-8c92-a6c4dae69d19",
    "_uuid": "8f2839f25d086af736a60e9eeb907d3b93b6e0e5",
    "execution": {
     "iopub.execute_input": "2024-08-16T22:09:54.144287Z",
     "iopub.status.busy": "2024-08-16T22:09:54.143800Z",
     "iopub.status.idle": "2024-08-16T22:09:55.182530Z",
     "shell.execute_reply": "2024-08-16T22:09:55.180665Z"
    },
    "papermill": {
     "duration": 1.061273,
     "end_time": "2024-08-16T22:09:55.185155",
     "exception": false,
     "start_time": "2024-08-16T22:09:54.123882",
     "status": "completed"
    },
    "tags": []
   },
   "outputs": [
    {
     "name": "stdout",
     "output_type": "stream",
     "text": [
      "/kaggle/input/crime-cast-forecasting-crime-categories/sample.csv\n",
      "/kaggle/input/crime-cast-forecasting-crime-categories/train.csv\n",
      "/kaggle/input/crime-cast-forecasting-crime-categories/test.csv\n"
     ]
    }
   ],
   "source": [
    "# This Python 3 environment comes with many helpful analytics libraries installed\n",
    "# It is defined by the kaggle/python Docker image: https://github.com/kaggle/docker-python\n",
    "# For example, here's several helpful packages to load\n",
    "\n",
    "import numpy as np # linear algebra\n",
    "import pandas as pd # data processing, CSV file I/O (e.g. pd.read_csv)\n",
    "\n",
    "# Input data files are available in the read-only \"../input/\" directory\n",
    "# For example, running this (by clicking run or pressing Shift+Enter) will list all files under the input directory\n",
    "\n",
    "import os\n",
    "for dirname, _, filenames in os.walk('/kaggle/input'):\n",
    "    for filename in filenames:\n",
    "        print(os.path.join(dirname, filename))\n",
    "\n",
    "# You can write up to 20GB to the current directory (/kaggle/working/) that gets preserved as output when you create a version using \"Save & Run All\" \n",
    "# You can also write temporary files to /kaggle/temp/, but they won't be saved outside of the current session"
   ]
  },
  {
   "cell_type": "markdown",
   "id": "9a01ed67",
   "metadata": {
    "papermill": {
     "duration": 0.017648,
     "end_time": "2024-08-16T22:09:55.220623",
     "exception": false,
     "start_time": "2024-08-16T22:09:55.202975",
     "status": "completed"
    },
    "tags": []
   },
   "source": [
    "# **Importing libraries**"
   ]
  },
  {
   "cell_type": "code",
   "execution_count": 2,
   "id": "90ab24e9",
   "metadata": {
    "execution": {
     "iopub.execute_input": "2024-08-16T22:09:55.258371Z",
     "iopub.status.busy": "2024-08-16T22:09:55.257849Z",
     "iopub.status.idle": "2024-08-16T22:09:57.362535Z",
     "shell.execute_reply": "2024-08-16T22:09:57.361218Z"
    },
    "papermill": {
     "duration": 2.127378,
     "end_time": "2024-08-16T22:09:57.365703",
     "exception": false,
     "start_time": "2024-08-16T22:09:55.238325",
     "status": "completed"
    },
    "tags": []
   },
   "outputs": [],
   "source": [
    "import numpy as np\n",
    "import pandas as pd\n",
    "import matplotlib.pyplot as plt\n",
    "import seaborn as sns\n",
    "\n",
    "from sklearn.impute import SimpleImputer\n",
    "from sklearn.pipeline import Pipeline\n",
    "from sklearn.compose import ColumnTransformer\n",
    "from sklearn.metrics import classification_report, confusion_matrix\n",
    "from sklearn.preprocessing import LabelEncoder,PolynomialFeatures, StandardScaler, OrdinalEncoder, OneHotEncoder\n",
    "from sklearn.model_selection import train_test_split, cross_val_score, GridSearchCV, RandomizedSearchCV\n",
    "from scipy.stats import randint\n",
    "from sklearn.svm import SVC\n",
    "from sklearn.metrics import classification_report, confusion_matrix\n",
    "from sklearn.tree import DecisionTreeClassifier\n",
    "from sklearn.neighbors import KNeighborsClassifier\n",
    "from sklearn.linear_model import LogisticRegression , LinearRegression\n",
    "from sklearn.ensemble import BaggingClassifier, RandomForestClassifier, GradientBoostingClassifier"
   ]
  },
  {
   "cell_type": "markdown",
   "id": "2b6fa080",
   "metadata": {
    "papermill": {
     "duration": 0.0183,
     "end_time": "2024-08-16T22:09:57.403129",
     "exception": false,
     "start_time": "2024-08-16T22:09:57.384829",
     "status": "completed"
    },
    "tags": []
   },
   "source": [
    "# **Importing Data**"
   ]
  },
  {
   "cell_type": "code",
   "execution_count": 3,
   "id": "fed63cba",
   "metadata": {
    "execution": {
     "iopub.execute_input": "2024-08-16T22:09:57.440704Z",
     "iopub.status.busy": "2024-08-16T22:09:57.440286Z",
     "iopub.status.idle": "2024-08-16T22:09:57.715226Z",
     "shell.execute_reply": "2024-08-16T22:09:57.714022Z"
    },
    "papermill": {
     "duration": 0.296958,
     "end_time": "2024-08-16T22:09:57.718205",
     "exception": false,
     "start_time": "2024-08-16T22:09:57.421247",
     "status": "completed"
    },
    "tags": []
   },
   "outputs": [],
   "source": [
    "sample_data= pd.read_csv('/kaggle/input/crime-cast-forecasting-crime-categories/sample.csv')\n",
    "train_data = pd.read_csv('/kaggle/input/crime-cast-forecasting-crime-categories/train.csv')\n",
    "test_data = pd.read_csv('/kaggle/input/crime-cast-forecasting-crime-categories/test.csv')"
   ]
  },
  {
   "cell_type": "markdown",
   "id": "6f6592e9",
   "metadata": {
    "papermill": {
     "duration": 0.0207,
     "end_time": "2024-08-16T22:09:57.757581",
     "exception": false,
     "start_time": "2024-08-16T22:09:57.736881",
     "status": "completed"
    },
    "tags": []
   },
   "source": [
    "# **EDA**"
   ]
  },
  {
   "cell_type": "code",
   "execution_count": 4,
   "id": "94658b20",
   "metadata": {
    "execution": {
     "iopub.execute_input": "2024-08-16T22:09:57.802665Z",
     "iopub.status.busy": "2024-08-16T22:09:57.802149Z",
     "iopub.status.idle": "2024-08-16T22:09:57.812840Z",
     "shell.execute_reply": "2024-08-16T22:09:57.811010Z"
    },
    "papermill": {
     "duration": 0.035759,
     "end_time": "2024-08-16T22:09:57.816362",
     "exception": false,
     "start_time": "2024-08-16T22:09:57.780603",
     "status": "completed"
    },
    "tags": []
   },
   "outputs": [
    {
     "data": {
      "text/plain": [
       "(20000, 22)"
      ]
     },
     "execution_count": 4,
     "metadata": {},
     "output_type": "execute_result"
    }
   ],
   "source": [
    "train_data.shape"
   ]
  },
  {
   "cell_type": "code",
   "execution_count": 5,
   "id": "89edd232",
   "metadata": {
    "execution": {
     "iopub.execute_input": "2024-08-16T22:09:57.874782Z",
     "iopub.status.busy": "2024-08-16T22:09:57.873600Z",
     "iopub.status.idle": "2024-08-16T22:09:57.933073Z",
     "shell.execute_reply": "2024-08-16T22:09:57.931556Z"
    },
    "papermill": {
     "duration": 0.090333,
     "end_time": "2024-08-16T22:09:57.936411",
     "exception": false,
     "start_time": "2024-08-16T22:09:57.846078",
     "status": "completed"
    },
    "tags": []
   },
   "outputs": [
    {
     "data": {
      "text/html": [
       "<div>\n",
       "<style scoped>\n",
       "    .dataframe tbody tr th:only-of-type {\n",
       "        vertical-align: middle;\n",
       "    }\n",
       "\n",
       "    .dataframe tbody tr th {\n",
       "        vertical-align: top;\n",
       "    }\n",
       "\n",
       "    .dataframe thead th {\n",
       "        text-align: right;\n",
       "    }\n",
       "</style>\n",
       "<table border=\"1\" class=\"dataframe\">\n",
       "  <thead>\n",
       "    <tr style=\"text-align: right;\">\n",
       "      <th></th>\n",
       "      <th>Location</th>\n",
       "      <th>Cross_Street</th>\n",
       "      <th>Latitude</th>\n",
       "      <th>Longitude</th>\n",
       "      <th>Date_Reported</th>\n",
       "      <th>Date_Occurred</th>\n",
       "      <th>Time_Occurred</th>\n",
       "      <th>Area_ID</th>\n",
       "      <th>Area_Name</th>\n",
       "      <th>Reporting_District_no</th>\n",
       "      <th>...</th>\n",
       "      <th>Victim_Age</th>\n",
       "      <th>Victim_Sex</th>\n",
       "      <th>Victim_Descent</th>\n",
       "      <th>Premise_Code</th>\n",
       "      <th>Premise_Description</th>\n",
       "      <th>Weapon_Used_Code</th>\n",
       "      <th>Weapon_Description</th>\n",
       "      <th>Status</th>\n",
       "      <th>Status_Description</th>\n",
       "      <th>Crime_Category</th>\n",
       "    </tr>\n",
       "  </thead>\n",
       "  <tbody>\n",
       "    <tr>\n",
       "      <th>0</th>\n",
       "      <td>4500    CARPENTER                    AV</td>\n",
       "      <td>NaN</td>\n",
       "      <td>34.1522</td>\n",
       "      <td>-118.3910</td>\n",
       "      <td>03/09/2020 12:00:00 AM</td>\n",
       "      <td>03/06/2020 12:00:00 AM</td>\n",
       "      <td>1800.0</td>\n",
       "      <td>15.0</td>\n",
       "      <td>N Hollywood</td>\n",
       "      <td>1563.0</td>\n",
       "      <td>...</td>\n",
       "      <td>75.0</td>\n",
       "      <td>M</td>\n",
       "      <td>W</td>\n",
       "      <td>101.0</td>\n",
       "      <td>STREET</td>\n",
       "      <td>NaN</td>\n",
       "      <td>NaN</td>\n",
       "      <td>IC</td>\n",
       "      <td>Invest Cont</td>\n",
       "      <td>Property Crimes</td>\n",
       "    </tr>\n",
       "    <tr>\n",
       "      <th>1</th>\n",
       "      <td>45TH                         ST</td>\n",
       "      <td>ALAMEDA                      ST</td>\n",
       "      <td>34.0028</td>\n",
       "      <td>-118.2391</td>\n",
       "      <td>02/27/2020 12:00:00 AM</td>\n",
       "      <td>02/27/2020 12:00:00 AM</td>\n",
       "      <td>1345.0</td>\n",
       "      <td>13.0</td>\n",
       "      <td>Newton</td>\n",
       "      <td>1367.0</td>\n",
       "      <td>...</td>\n",
       "      <td>41.0</td>\n",
       "      <td>M</td>\n",
       "      <td>H</td>\n",
       "      <td>216.0</td>\n",
       "      <td>SWAP MEET</td>\n",
       "      <td>400.0</td>\n",
       "      <td>STRONG-ARM (HANDS, FIST, FEET OR BODILY FORCE)</td>\n",
       "      <td>IC</td>\n",
       "      <td>Invest Cont</td>\n",
       "      <td>Property Crimes</td>\n",
       "    </tr>\n",
       "    <tr>\n",
       "      <th>2</th>\n",
       "      <td>600 E  MARTIN LUTHER KING JR        BL</td>\n",
       "      <td>NaN</td>\n",
       "      <td>34.0111</td>\n",
       "      <td>-118.2653</td>\n",
       "      <td>08/21/2020 12:00:00 AM</td>\n",
       "      <td>08/21/2020 12:00:00 AM</td>\n",
       "      <td>605.0</td>\n",
       "      <td>13.0</td>\n",
       "      <td>Newton</td>\n",
       "      <td>1343.0</td>\n",
       "      <td>...</td>\n",
       "      <td>67.0</td>\n",
       "      <td>M</td>\n",
       "      <td>B</td>\n",
       "      <td>501.0</td>\n",
       "      <td>SINGLE FAMILY DWELLING</td>\n",
       "      <td>NaN</td>\n",
       "      <td>NaN</td>\n",
       "      <td>IC</td>\n",
       "      <td>Invest Cont</td>\n",
       "      <td>Property Crimes</td>\n",
       "    </tr>\n",
       "    <tr>\n",
       "      <th>3</th>\n",
       "      <td>14900    ORO GRANDE                   ST</td>\n",
       "      <td>NaN</td>\n",
       "      <td>34.2953</td>\n",
       "      <td>-118.4590</td>\n",
       "      <td>11/08/2020 12:00:00 AM</td>\n",
       "      <td>11/06/2020 12:00:00 AM</td>\n",
       "      <td>1800.0</td>\n",
       "      <td>19.0</td>\n",
       "      <td>Mission</td>\n",
       "      <td>1924.0</td>\n",
       "      <td>...</td>\n",
       "      <td>61.0</td>\n",
       "      <td>M</td>\n",
       "      <td>H</td>\n",
       "      <td>101.0</td>\n",
       "      <td>STREET</td>\n",
       "      <td>NaN</td>\n",
       "      <td>NaN</td>\n",
       "      <td>IC</td>\n",
       "      <td>Invest Cont</td>\n",
       "      <td>Property Crimes</td>\n",
       "    </tr>\n",
       "    <tr>\n",
       "      <th>4</th>\n",
       "      <td>7100 S  VERMONT                      AV</td>\n",
       "      <td>NaN</td>\n",
       "      <td>33.9787</td>\n",
       "      <td>-118.2918</td>\n",
       "      <td>02/25/2020 12:00:00 AM</td>\n",
       "      <td>02/25/2020 12:00:00 AM</td>\n",
       "      <td>1130.0</td>\n",
       "      <td>12.0</td>\n",
       "      <td>77th Street</td>\n",
       "      <td>1245.0</td>\n",
       "      <td>...</td>\n",
       "      <td>0.0</td>\n",
       "      <td>X</td>\n",
       "      <td>X</td>\n",
       "      <td>401.0</td>\n",
       "      <td>MINI-MART</td>\n",
       "      <td>400.0</td>\n",
       "      <td>STRONG-ARM (HANDS, FIST, FEET OR BODILY FORCE)</td>\n",
       "      <td>IC</td>\n",
       "      <td>Invest Cont</td>\n",
       "      <td>Property Crimes</td>\n",
       "    </tr>\n",
       "  </tbody>\n",
       "</table>\n",
       "<p>5 rows × 22 columns</p>\n",
       "</div>"
      ],
      "text/plain": [
       "                                   Location                     Cross_Street  \\\n",
       "0   4500    CARPENTER                    AV                              NaN   \n",
       "1           45TH                         ST  ALAMEDA                      ST   \n",
       "2    600 E  MARTIN LUTHER KING JR        BL                              NaN   \n",
       "3  14900    ORO GRANDE                   ST                              NaN   \n",
       "4   7100 S  VERMONT                      AV                              NaN   \n",
       "\n",
       "   Latitude  Longitude           Date_Reported           Date_Occurred  \\\n",
       "0   34.1522  -118.3910  03/09/2020 12:00:00 AM  03/06/2020 12:00:00 AM   \n",
       "1   34.0028  -118.2391  02/27/2020 12:00:00 AM  02/27/2020 12:00:00 AM   \n",
       "2   34.0111  -118.2653  08/21/2020 12:00:00 AM  08/21/2020 12:00:00 AM   \n",
       "3   34.2953  -118.4590  11/08/2020 12:00:00 AM  11/06/2020 12:00:00 AM   \n",
       "4   33.9787  -118.2918  02/25/2020 12:00:00 AM  02/25/2020 12:00:00 AM   \n",
       "\n",
       "   Time_Occurred  Area_ID    Area_Name  Reporting_District_no  ...  \\\n",
       "0         1800.0     15.0  N Hollywood                 1563.0  ...   \n",
       "1         1345.0     13.0       Newton                 1367.0  ...   \n",
       "2          605.0     13.0       Newton                 1343.0  ...   \n",
       "3         1800.0     19.0      Mission                 1924.0  ...   \n",
       "4         1130.0     12.0  77th Street                 1245.0  ...   \n",
       "\n",
       "   Victim_Age Victim_Sex  Victim_Descent Premise_Code     Premise_Description  \\\n",
       "0        75.0          M               W        101.0                  STREET   \n",
       "1        41.0          M               H        216.0               SWAP MEET   \n",
       "2        67.0          M               B        501.0  SINGLE FAMILY DWELLING   \n",
       "3        61.0          M               H        101.0                  STREET   \n",
       "4         0.0          X               X        401.0               MINI-MART   \n",
       "\n",
       "   Weapon_Used_Code                              Weapon_Description  Status  \\\n",
       "0               NaN                                             NaN      IC   \n",
       "1             400.0  STRONG-ARM (HANDS, FIST, FEET OR BODILY FORCE)      IC   \n",
       "2               NaN                                             NaN      IC   \n",
       "3               NaN                                             NaN      IC   \n",
       "4             400.0  STRONG-ARM (HANDS, FIST, FEET OR BODILY FORCE)      IC   \n",
       "\n",
       "  Status_Description   Crime_Category  \n",
       "0        Invest Cont  Property Crimes  \n",
       "1        Invest Cont  Property Crimes  \n",
       "2        Invest Cont  Property Crimes  \n",
       "3        Invest Cont  Property Crimes  \n",
       "4        Invest Cont  Property Crimes  \n",
       "\n",
       "[5 rows x 22 columns]"
      ]
     },
     "execution_count": 5,
     "metadata": {},
     "output_type": "execute_result"
    }
   ],
   "source": [
    "train_data.head()"
   ]
  },
  {
   "cell_type": "code",
   "execution_count": 6,
   "id": "25b7121a",
   "metadata": {
    "execution": {
     "iopub.execute_input": "2024-08-16T22:09:57.978206Z",
     "iopub.status.busy": "2024-08-16T22:09:57.977794Z",
     "iopub.status.idle": "2024-08-16T22:09:58.041306Z",
     "shell.execute_reply": "2024-08-16T22:09:58.039527Z"
    },
    "papermill": {
     "duration": 0.08708,
     "end_time": "2024-08-16T22:09:58.044786",
     "exception": false,
     "start_time": "2024-08-16T22:09:57.957706",
     "status": "completed"
    },
    "tags": []
   },
   "outputs": [
    {
     "data": {
      "text/html": [
       "<div>\n",
       "<style scoped>\n",
       "    .dataframe tbody tr th:only-of-type {\n",
       "        vertical-align: middle;\n",
       "    }\n",
       "\n",
       "    .dataframe tbody tr th {\n",
       "        vertical-align: top;\n",
       "    }\n",
       "\n",
       "    .dataframe thead th {\n",
       "        text-align: right;\n",
       "    }\n",
       "</style>\n",
       "<table border=\"1\" class=\"dataframe\">\n",
       "  <thead>\n",
       "    <tr style=\"text-align: right;\">\n",
       "      <th></th>\n",
       "      <th>Latitude</th>\n",
       "      <th>Longitude</th>\n",
       "      <th>Time_Occurred</th>\n",
       "      <th>Area_ID</th>\n",
       "      <th>Reporting_District_no</th>\n",
       "      <th>Part 1-2</th>\n",
       "      <th>Victim_Age</th>\n",
       "      <th>Premise_Code</th>\n",
       "      <th>Weapon_Used_Code</th>\n",
       "    </tr>\n",
       "  </thead>\n",
       "  <tbody>\n",
       "    <tr>\n",
       "      <th>count</th>\n",
       "      <td>20000.000000</td>\n",
       "      <td>20000.000000</td>\n",
       "      <td>20000.000000</td>\n",
       "      <td>20000.000000</td>\n",
       "      <td>20000.000000</td>\n",
       "      <td>20000.000000</td>\n",
       "      <td>20000.000000</td>\n",
       "      <td>20000.000000</td>\n",
       "      <td>7335.000000</td>\n",
       "    </tr>\n",
       "    <tr>\n",
       "      <th>mean</th>\n",
       "      <td>33.940704</td>\n",
       "      <td>-117.893072</td>\n",
       "      <td>1352.380350</td>\n",
       "      <td>10.834250</td>\n",
       "      <td>1129.599200</td>\n",
       "      <td>1.418150</td>\n",
       "      <td>30.135000</td>\n",
       "      <td>297.176950</td>\n",
       "      <td>366.405044</td>\n",
       "    </tr>\n",
       "    <tr>\n",
       "      <th>std</th>\n",
       "      <td>2.126810</td>\n",
       "      <td>7.377726</td>\n",
       "      <td>646.100291</td>\n",
       "      <td>6.033166</td>\n",
       "      <td>603.330519</td>\n",
       "      <td>0.493267</td>\n",
       "      <td>21.863645</td>\n",
       "      <td>212.007298</td>\n",
       "      <td>120.485687</td>\n",
       "    </tr>\n",
       "    <tr>\n",
       "      <th>min</th>\n",
       "      <td>0.000000</td>\n",
       "      <td>-118.663400</td>\n",
       "      <td>1.000000</td>\n",
       "      <td>1.000000</td>\n",
       "      <td>101.000000</td>\n",
       "      <td>1.000000</td>\n",
       "      <td>-2.000000</td>\n",
       "      <td>101.000000</td>\n",
       "      <td>101.000000</td>\n",
       "    </tr>\n",
       "    <tr>\n",
       "      <th>25%</th>\n",
       "      <td>34.009200</td>\n",
       "      <td>-118.429700</td>\n",
       "      <td>930.000000</td>\n",
       "      <td>6.000000</td>\n",
       "      <td>632.000000</td>\n",
       "      <td>1.000000</td>\n",
       "      <td>12.000000</td>\n",
       "      <td>101.000000</td>\n",
       "      <td>312.000000</td>\n",
       "    </tr>\n",
       "    <tr>\n",
       "      <th>50%</th>\n",
       "      <td>34.058700</td>\n",
       "      <td>-118.323000</td>\n",
       "      <td>1430.000000</td>\n",
       "      <td>11.000000</td>\n",
       "      <td>1162.000000</td>\n",
       "      <td>1.000000</td>\n",
       "      <td>31.000000</td>\n",
       "      <td>203.000000</td>\n",
       "      <td>400.000000</td>\n",
       "    </tr>\n",
       "    <tr>\n",
       "      <th>75%</th>\n",
       "      <td>34.165025</td>\n",
       "      <td>-118.274400</td>\n",
       "      <td>1900.000000</td>\n",
       "      <td>16.000000</td>\n",
       "      <td>1622.000000</td>\n",
       "      <td>2.000000</td>\n",
       "      <td>46.000000</td>\n",
       "      <td>501.000000</td>\n",
       "      <td>400.000000</td>\n",
       "    </tr>\n",
       "    <tr>\n",
       "      <th>max</th>\n",
       "      <td>34.328100</td>\n",
       "      <td>0.000000</td>\n",
       "      <td>2359.000000</td>\n",
       "      <td>21.000000</td>\n",
       "      <td>2197.000000</td>\n",
       "      <td>2.000000</td>\n",
       "      <td>99.000000</td>\n",
       "      <td>969.000000</td>\n",
       "      <td>515.000000</td>\n",
       "    </tr>\n",
       "  </tbody>\n",
       "</table>\n",
       "</div>"
      ],
      "text/plain": [
       "           Latitude     Longitude  Time_Occurred       Area_ID  \\\n",
       "count  20000.000000  20000.000000   20000.000000  20000.000000   \n",
       "mean      33.940704   -117.893072    1352.380350     10.834250   \n",
       "std        2.126810      7.377726     646.100291      6.033166   \n",
       "min        0.000000   -118.663400       1.000000      1.000000   \n",
       "25%       34.009200   -118.429700     930.000000      6.000000   \n",
       "50%       34.058700   -118.323000    1430.000000     11.000000   \n",
       "75%       34.165025   -118.274400    1900.000000     16.000000   \n",
       "max       34.328100      0.000000    2359.000000     21.000000   \n",
       "\n",
       "       Reporting_District_no      Part 1-2    Victim_Age  Premise_Code  \\\n",
       "count           20000.000000  20000.000000  20000.000000  20000.000000   \n",
       "mean             1129.599200      1.418150     30.135000    297.176950   \n",
       "std               603.330519      0.493267     21.863645    212.007298   \n",
       "min               101.000000      1.000000     -2.000000    101.000000   \n",
       "25%               632.000000      1.000000     12.000000    101.000000   \n",
       "50%              1162.000000      1.000000     31.000000    203.000000   \n",
       "75%              1622.000000      2.000000     46.000000    501.000000   \n",
       "max              2197.000000      2.000000     99.000000    969.000000   \n",
       "\n",
       "       Weapon_Used_Code  \n",
       "count       7335.000000  \n",
       "mean         366.405044  \n",
       "std          120.485687  \n",
       "min          101.000000  \n",
       "25%          312.000000  \n",
       "50%          400.000000  \n",
       "75%          400.000000  \n",
       "max          515.000000  "
      ]
     },
     "execution_count": 6,
     "metadata": {},
     "output_type": "execute_result"
    }
   ],
   "source": [
    "train_data.describe()"
   ]
  },
  {
   "cell_type": "code",
   "execution_count": 7,
   "id": "c83e7da3",
   "metadata": {
    "execution": {
     "iopub.execute_input": "2024-08-16T22:09:58.090016Z",
     "iopub.status.busy": "2024-08-16T22:09:58.089443Z",
     "iopub.status.idle": "2024-08-16T22:09:59.796220Z",
     "shell.execute_reply": "2024-08-16T22:09:59.794806Z"
    },
    "papermill": {
     "duration": 1.730924,
     "end_time": "2024-08-16T22:09:59.799313",
     "exception": false,
     "start_time": "2024-08-16T22:09:58.068389",
     "status": "completed"
    },
    "tags": []
   },
   "outputs": [
    {
     "data": {
      "image/png": "[encoded data removed]",
      "text/plain": [
       "<Figure size 1000x600 with 1 Axes>"
      ]
     },
     "metadata": {},
     "output_type": "display_data"
    },
    {
     "name": "stderr",
     "output_type": "stream",
     "text": [
      "/opt/conda/lib/python3.10/site-packages/seaborn/_oldcore.py:1119: FutureWarning: use_inf_as_na option is deprecated and will be removed in a future version. Convert inf values to NaN before operating instead.\n",
      "  with pd.option_context('mode.use_inf_as_na', True):\n"
     ]
    },
    {
     "data": {
      "image/png": "[encoded data removed]",
      "text/plain": [
       "<Figure size 1000x600 with 1 Axes>"
      ]
     },
     "metadata": {},
     "output_type": "display_data"
    },
    {
     "data": {
      "image/png": "[encoded data removed]",
      "text/plain": [
       "<Figure size 1000x600 with 1 Axes>"
      ]
     },
     "metadata": {},
     "output_type": "display_data"
    }
   ],
   "source": [
    "# Set up visualization styles\n",
    "sns.set(style=\"whitegrid\")\n",
    "\n",
    "# 1. Distribution of Crime Categories\n",
    "plt.figure(figsize=(10, 6))\n",
    "sns.countplot(y=\"Crime_Category\", data=train_data, order=train_data['Crime_Category'].value_counts().index)\n",
    "plt.title(\"Distribution of Crime Categories\")\n",
    "plt.xlabel(\"Count\")\n",
    "plt.ylabel(\"Crime Category\")\n",
    "plt.show()\n",
    "\n",
    "# 2. Distribution of Victim's Age\n",
    "plt.figure(figsize=(10, 6))\n",
    "sns.histplot(train_data['Victim_Age'], bins=30, kde=True)\n",
    "plt.title(\"Distribution of Victim's Age\")\n",
    "plt.xlabel(\"Age\")\n",
    "plt.ylabel(\"Frequency\")\n",
    "plt.show()\n",
    "\n",
    "# 3. Crime occurrences by Area\n",
    "plt.figure(figsize=(10, 6))\n",
    "sns.countplot(y=\"Area_Name\", data=train_data, order=train_data['Area_Name'].value_counts().index)\n",
    "plt.title(\"Crime Occurrences by Area\")\n",
    "plt.xlabel(\"Count\")\n",
    "plt.ylabel(\"Area Name\")\n",
    "plt.show()\n"
   ]
  },
  {
   "cell_type": "markdown",
   "id": "c9320cac",
   "metadata": {
    "papermill": {
     "duration": 0.022651,
     "end_time": "2024-08-16T22:09:59.843250",
     "exception": false,
     "start_time": "2024-08-16T22:09:59.820599",
     "status": "completed"
    },
    "tags": []
   },
   "source": [
    "# **-->Identify the feature types**"
   ]
  },
  {
   "cell_type": "code",
   "execution_count": 8,
   "id": "d675a873",
   "metadata": {
    "execution": {
     "iopub.execute_input": "2024-08-16T22:09:59.889371Z",
     "iopub.status.busy": "2024-08-16T22:09:59.888977Z",
     "iopub.status.idle": "2024-08-16T22:09:59.933180Z",
     "shell.execute_reply": "2024-08-16T22:09:59.931837Z"
    },
    "papermill": {
     "duration": 0.070795,
     "end_time": "2024-08-16T22:09:59.935892",
     "exception": false,
     "start_time": "2024-08-16T22:09:59.865097",
     "status": "completed"
    },
    "tags": []
   },
   "outputs": [
    {
     "name": "stdout",
     "output_type": "stream",
     "text": [
      "<class 'pandas.core.frame.DataFrame'>\n",
      "RangeIndex: 20000 entries, 0 to 19999\n",
      "Data columns (total 22 columns):\n",
      " #   Column                 Non-Null Count  Dtype  \n",
      "---  ------                 --------------  -----  \n",
      " 0   Location               20000 non-null  object \n",
      " 1   Cross_Street           3448 non-null   object \n",
      " 2   Latitude               20000 non-null  float64\n",
      " 3   Longitude              20000 non-null  float64\n",
      " 4   Date_Reported          20000 non-null  object \n",
      " 5   Date_Occurred          20000 non-null  object \n",
      " 6   Time_Occurred          20000 non-null  float64\n",
      " 7   Area_ID                20000 non-null  float64\n",
      " 8   Area_Name              20000 non-null  object \n",
      " 9   Reporting_District_no  20000 non-null  float64\n",
      " 10  Part 1-2               20000 non-null  float64\n",
      " 11  Modus_Operandi         17259 non-null  object \n",
      " 12  Victim_Age             20000 non-null  float64\n",
      " 13  Victim_Sex             17376 non-null  object \n",
      " 14  Victim_Descent         17376 non-null  object \n",
      " 15  Premise_Code           20000 non-null  float64\n",
      " 16  Premise_Description    19995 non-null  object \n",
      " 17  Weapon_Used_Code       7335 non-null   float64\n",
      " 18  Weapon_Description     7335 non-null   object \n",
      " 19  Status                 20000 non-null  object \n",
      " 20  Status_Description     20000 non-null  object \n",
      " 21  Crime_Category         20000 non-null  object \n",
      "dtypes: float64(9), object(13)\n",
      "memory usage: 3.4+ MB\n"
     ]
    }
   ],
   "source": [
    "train_data.info()"
   ]
  },
  {
   "cell_type": "markdown",
   "id": "598918f8",
   "metadata": {
    "papermill": {
     "duration": 0.021033,
     "end_time": "2024-08-16T22:09:59.978570",
     "exception": false,
     "start_time": "2024-08-16T22:09:59.957537",
     "status": "completed"
    },
    "tags": []
   },
   "source": [
    "# **Data preprocessing**"
   ]
  },
  {
   "cell_type": "code",
   "execution_count": 9,
   "id": "8983fb30",
   "metadata": {
    "execution": {
     "iopub.execute_input": "2024-08-16T22:10:00.024308Z",
     "iopub.status.busy": "2024-08-16T22:10:00.023915Z",
     "iopub.status.idle": "2024-08-16T22:10:00.033099Z",
     "shell.execute_reply": "2024-08-16T22:10:00.031881Z"
    },
    "papermill": {
     "duration": 0.036086,
     "end_time": "2024-08-16T22:10:00.035909",
     "exception": false,
     "start_time": "2024-08-16T22:09:59.999823",
     "status": "completed"
    },
    "tags": []
   },
   "outputs": [],
   "source": [
    "#Here the target column is \"Crime_Category\"\n",
    "x=train_data.iloc[:,:-1]\n",
    "y=train_data.iloc[:, -1]"
   ]
  },
  {
   "cell_type": "code",
   "execution_count": 10,
   "id": "214c2503",
   "metadata": {
    "execution": {
     "iopub.execute_input": "2024-08-16T22:10:00.081677Z",
     "iopub.status.busy": "2024-08-16T22:10:00.081227Z",
     "iopub.status.idle": "2024-08-16T22:10:00.089992Z",
     "shell.execute_reply": "2024-08-16T22:10:00.088896Z"
    },
    "papermill": {
     "duration": 0.035153,
     "end_time": "2024-08-16T22:10:00.092553",
     "exception": false,
     "start_time": "2024-08-16T22:10:00.057400",
     "status": "completed"
    },
    "tags": []
   },
   "outputs": [
    {
     "data": {
      "text/plain": [
       "array(['Property Crimes', 'Violent Crimes', 'Other Crimes',\n",
       "       'Crimes against Public Order', 'Fraud and White-Collar Crimes',\n",
       "       'Crimes against Persons'], dtype=object)"
      ]
     },
     "execution_count": 10,
     "metadata": {},
     "output_type": "execute_result"
    }
   ],
   "source": [
    "#finding the unique value in the column\n",
    "train_data[\"Crime_Category\"].unique()"
   ]
  },
  {
   "cell_type": "code",
   "execution_count": 11,
   "id": "928ba103",
   "metadata": {
    "execution": {
     "iopub.execute_input": "2024-08-16T22:10:00.139187Z",
     "iopub.status.busy": "2024-08-16T22:10:00.138777Z",
     "iopub.status.idle": "2024-08-16T22:10:00.151436Z",
     "shell.execute_reply": "2024-08-16T22:10:00.150378Z"
    },
    "papermill": {
     "duration": 0.039738,
     "end_time": "2024-08-16T22:10:00.153907",
     "exception": false,
     "start_time": "2024-08-16T22:10:00.114169",
     "status": "completed"
    },
    "tags": []
   },
   "outputs": [
    {
     "data": {
      "text/plain": [
       "Crime_Category\n",
       "Property Crimes                  11666\n",
       "Violent Crimes                    4767\n",
       "Crimes against Public Order       1808\n",
       "Fraud and White-Collar Crimes     1355\n",
       "Crimes against Persons             225\n",
       "Other Crimes                       179\n",
       "Name: count, dtype: int64"
      ]
     },
     "execution_count": 11,
     "metadata": {},
     "output_type": "execute_result"
    }
   ],
   "source": [
    "train_data[\"Crime_Category\"].value_counts()"
   ]
  },
  {
   "cell_type": "code",
   "execution_count": 12,
   "id": "245ef744",
   "metadata": {
    "execution": {
     "iopub.execute_input": "2024-08-16T22:10:00.199589Z",
     "iopub.status.busy": "2024-08-16T22:10:00.198591Z",
     "iopub.status.idle": "2024-08-16T22:10:00.511170Z",
     "shell.execute_reply": "2024-08-16T22:10:00.509551Z"
    },
    "papermill": {
     "duration": 0.340732,
     "end_time": "2024-08-16T22:10:00.516293",
     "exception": false,
     "start_time": "2024-08-16T22:10:00.175561",
     "status": "completed"
    },
    "tags": []
   },
   "outputs": [
    {
     "data": {
      "image/png": "[encoded data removed]",
      "text/plain": [
       "<Figure size 640x480 with 1 Axes>"
      ]
     },
     "metadata": {},
     "output_type": "display_data"
    }
   ],
   "source": [
    "values = pd.Series(train_data['Crime_Category'])\n",
    "v_counts = values.value_counts()\n",
    "total = len(values)\n",
    "fig = plt.figure()\n",
    "plt.title(\"Crime Category\")\n",
    "plt.pie(v_counts, labels=v_counts.index, autopct='%1.1f%%', shadow=True);"
   ]
  },
  {
   "cell_type": "code",
   "execution_count": 13,
   "id": "725e6770",
   "metadata": {
    "execution": {
     "iopub.execute_input": "2024-08-16T22:10:00.565013Z",
     "iopub.status.busy": "2024-08-16T22:10:00.564331Z",
     "iopub.status.idle": "2024-08-16T22:10:00.596886Z",
     "shell.execute_reply": "2024-08-16T22:10:00.595551Z"
    },
    "papermill": {
     "duration": 0.059829,
     "end_time": "2024-08-16T22:10:00.599457",
     "exception": false,
     "start_time": "2024-08-16T22:10:00.539628",
     "status": "completed"
    },
    "tags": []
   },
   "outputs": [
    {
     "data": {
      "text/html": [
       "<div>\n",
       "<style scoped>\n",
       "    .dataframe tbody tr th:only-of-type {\n",
       "        vertical-align: middle;\n",
       "    }\n",
       "\n",
       "    .dataframe tbody tr th {\n",
       "        vertical-align: top;\n",
       "    }\n",
       "\n",
       "    .dataframe thead th {\n",
       "        text-align: right;\n",
       "    }\n",
       "</style>\n",
       "<table border=\"1\" class=\"dataframe\">\n",
       "  <thead>\n",
       "    <tr style=\"text-align: right;\">\n",
       "      <th></th>\n",
       "      <th>Location</th>\n",
       "      <th>Cross_Street</th>\n",
       "      <th>Latitude</th>\n",
       "      <th>Longitude</th>\n",
       "      <th>Date_Reported</th>\n",
       "      <th>Date_Occurred</th>\n",
       "      <th>Time_Occurred</th>\n",
       "      <th>Area_ID</th>\n",
       "      <th>Area_Name</th>\n",
       "      <th>Reporting_District_no</th>\n",
       "      <th>...</th>\n",
       "      <th>Modus_Operandi</th>\n",
       "      <th>Victim_Age</th>\n",
       "      <th>Victim_Sex</th>\n",
       "      <th>Victim_Descent</th>\n",
       "      <th>Premise_Code</th>\n",
       "      <th>Premise_Description</th>\n",
       "      <th>Weapon_Used_Code</th>\n",
       "      <th>Weapon_Description</th>\n",
       "      <th>Status</th>\n",
       "      <th>Status_Description</th>\n",
       "    </tr>\n",
       "  </thead>\n",
       "  <tbody>\n",
       "    <tr>\n",
       "      <th>0</th>\n",
       "      <td>4500    CARPENTER                    AV</td>\n",
       "      <td>NaN</td>\n",
       "      <td>34.1522</td>\n",
       "      <td>-118.3910</td>\n",
       "      <td>03/09/2020 12:00:00 AM</td>\n",
       "      <td>03/06/2020 12:00:00 AM</td>\n",
       "      <td>1800.0</td>\n",
       "      <td>15.0</td>\n",
       "      <td>N Hollywood</td>\n",
       "      <td>1563.0</td>\n",
       "      <td>...</td>\n",
       "      <td>0385</td>\n",
       "      <td>75.0</td>\n",
       "      <td>M</td>\n",
       "      <td>W</td>\n",
       "      <td>101.0</td>\n",
       "      <td>STREET</td>\n",
       "      <td>NaN</td>\n",
       "      <td>NaN</td>\n",
       "      <td>IC</td>\n",
       "      <td>Invest Cont</td>\n",
       "    </tr>\n",
       "    <tr>\n",
       "      <th>1</th>\n",
       "      <td>45TH                         ST</td>\n",
       "      <td>ALAMEDA                      ST</td>\n",
       "      <td>34.0028</td>\n",
       "      <td>-118.2391</td>\n",
       "      <td>02/27/2020 12:00:00 AM</td>\n",
       "      <td>02/27/2020 12:00:00 AM</td>\n",
       "      <td>1345.0</td>\n",
       "      <td>13.0</td>\n",
       "      <td>Newton</td>\n",
       "      <td>1367.0</td>\n",
       "      <td>...</td>\n",
       "      <td>0906 0352 0371 0446 1822 0344 0416 0417</td>\n",
       "      <td>41.0</td>\n",
       "      <td>M</td>\n",
       "      <td>H</td>\n",
       "      <td>216.0</td>\n",
       "      <td>SWAP MEET</td>\n",
       "      <td>400.0</td>\n",
       "      <td>STRONG-ARM (HANDS, FIST, FEET OR BODILY FORCE)</td>\n",
       "      <td>IC</td>\n",
       "      <td>Invest Cont</td>\n",
       "    </tr>\n",
       "    <tr>\n",
       "      <th>2</th>\n",
       "      <td>600 E  MARTIN LUTHER KING JR        BL</td>\n",
       "      <td>NaN</td>\n",
       "      <td>34.0111</td>\n",
       "      <td>-118.2653</td>\n",
       "      <td>08/21/2020 12:00:00 AM</td>\n",
       "      <td>08/21/2020 12:00:00 AM</td>\n",
       "      <td>605.0</td>\n",
       "      <td>13.0</td>\n",
       "      <td>Newton</td>\n",
       "      <td>1343.0</td>\n",
       "      <td>...</td>\n",
       "      <td>0329 1202</td>\n",
       "      <td>67.0</td>\n",
       "      <td>M</td>\n",
       "      <td>B</td>\n",
       "      <td>501.0</td>\n",
       "      <td>SINGLE FAMILY DWELLING</td>\n",
       "      <td>NaN</td>\n",
       "      <td>NaN</td>\n",
       "      <td>IC</td>\n",
       "      <td>Invest Cont</td>\n",
       "    </tr>\n",
       "    <tr>\n",
       "      <th>3</th>\n",
       "      <td>14900    ORO GRANDE                   ST</td>\n",
       "      <td>NaN</td>\n",
       "      <td>34.2953</td>\n",
       "      <td>-118.4590</td>\n",
       "      <td>11/08/2020 12:00:00 AM</td>\n",
       "      <td>11/06/2020 12:00:00 AM</td>\n",
       "      <td>1800.0</td>\n",
       "      <td>19.0</td>\n",
       "      <td>Mission</td>\n",
       "      <td>1924.0</td>\n",
       "      <td>...</td>\n",
       "      <td>0329 1300</td>\n",
       "      <td>61.0</td>\n",
       "      <td>M</td>\n",
       "      <td>H</td>\n",
       "      <td>101.0</td>\n",
       "      <td>STREET</td>\n",
       "      <td>NaN</td>\n",
       "      <td>NaN</td>\n",
       "      <td>IC</td>\n",
       "      <td>Invest Cont</td>\n",
       "    </tr>\n",
       "    <tr>\n",
       "      <th>4</th>\n",
       "      <td>7100 S  VERMONT                      AV</td>\n",
       "      <td>NaN</td>\n",
       "      <td>33.9787</td>\n",
       "      <td>-118.2918</td>\n",
       "      <td>02/25/2020 12:00:00 AM</td>\n",
       "      <td>02/25/2020 12:00:00 AM</td>\n",
       "      <td>1130.0</td>\n",
       "      <td>12.0</td>\n",
       "      <td>77th Street</td>\n",
       "      <td>1245.0</td>\n",
       "      <td>...</td>\n",
       "      <td>0416 0945 1822 0400 0417 0344</td>\n",
       "      <td>0.0</td>\n",
       "      <td>X</td>\n",
       "      <td>X</td>\n",
       "      <td>401.0</td>\n",
       "      <td>MINI-MART</td>\n",
       "      <td>400.0</td>\n",
       "      <td>STRONG-ARM (HANDS, FIST, FEET OR BODILY FORCE)</td>\n",
       "      <td>IC</td>\n",
       "      <td>Invest Cont</td>\n",
       "    </tr>\n",
       "  </tbody>\n",
       "</table>\n",
       "<p>5 rows × 21 columns</p>\n",
       "</div>"
      ],
      "text/plain": [
       "                                   Location                     Cross_Street  \\\n",
       "0   4500    CARPENTER                    AV                              NaN   \n",
       "1           45TH                         ST  ALAMEDA                      ST   \n",
       "2    600 E  MARTIN LUTHER KING JR        BL                              NaN   \n",
       "3  14900    ORO GRANDE                   ST                              NaN   \n",
       "4   7100 S  VERMONT                      AV                              NaN   \n",
       "\n",
       "   Latitude  Longitude           Date_Reported           Date_Occurred  \\\n",
       "0   34.1522  -118.3910  03/09/2020 12:00:00 AM  03/06/2020 12:00:00 AM   \n",
       "1   34.0028  -118.2391  02/27/2020 12:00:00 AM  02/27/2020 12:00:00 AM   \n",
       "2   34.0111  -118.2653  08/21/2020 12:00:00 AM  08/21/2020 12:00:00 AM   \n",
       "3   34.2953  -118.4590  11/08/2020 12:00:00 AM  11/06/2020 12:00:00 AM   \n",
       "4   33.9787  -118.2918  02/25/2020 12:00:00 AM  02/25/2020 12:00:00 AM   \n",
       "\n",
       "   Time_Occurred  Area_ID    Area_Name  Reporting_District_no  ...  \\\n",
       "0         1800.0     15.0  N Hollywood                 1563.0  ...   \n",
       "1         1345.0     13.0       Newton                 1367.0  ...   \n",
       "2          605.0     13.0       Newton                 1343.0  ...   \n",
       "3         1800.0     19.0      Mission                 1924.0  ...   \n",
       "4         1130.0     12.0  77th Street                 1245.0  ...   \n",
       "\n",
       "                            Modus_Operandi Victim_Age  Victim_Sex  \\\n",
       "0                                     0385       75.0           M   \n",
       "1  0906 0352 0371 0446 1822 0344 0416 0417       41.0           M   \n",
       "2                                0329 1202       67.0           M   \n",
       "3                                0329 1300       61.0           M   \n",
       "4            0416 0945 1822 0400 0417 0344        0.0           X   \n",
       "\n",
       "  Victim_Descent Premise_Code     Premise_Description Weapon_Used_Code  \\\n",
       "0              W        101.0                  STREET              NaN   \n",
       "1              H        216.0               SWAP MEET            400.0   \n",
       "2              B        501.0  SINGLE FAMILY DWELLING              NaN   \n",
       "3              H        101.0                  STREET              NaN   \n",
       "4              X        401.0               MINI-MART            400.0   \n",
       "\n",
       "                               Weapon_Description Status Status_Description  \n",
       "0                                             NaN     IC        Invest Cont  \n",
       "1  STRONG-ARM (HANDS, FIST, FEET OR BODILY FORCE)     IC        Invest Cont  \n",
       "2                                             NaN     IC        Invest Cont  \n",
       "3                                             NaN     IC        Invest Cont  \n",
       "4  STRONG-ARM (HANDS, FIST, FEET OR BODILY FORCE)     IC        Invest Cont  \n",
       "\n",
       "[5 rows x 21 columns]"
      ]
     },
     "execution_count": 13,
     "metadata": {},
     "output_type": "execute_result"
    }
   ],
   "source": [
    "x.head()"
   ]
  },
  {
   "cell_type": "code",
   "execution_count": 14,
   "id": "9637cd50",
   "metadata": {
    "execution": {
     "iopub.execute_input": "2024-08-16T22:10:00.648894Z",
     "iopub.status.busy": "2024-08-16T22:10:00.647920Z",
     "iopub.status.idle": "2024-08-16T22:10:00.657009Z",
     "shell.execute_reply": "2024-08-16T22:10:00.655890Z"
    },
    "papermill": {
     "duration": 0.036352,
     "end_time": "2024-08-16T22:10:00.659487",
     "exception": false,
     "start_time": "2024-08-16T22:10:00.623135",
     "status": "completed"
    },
    "tags": []
   },
   "outputs": [
    {
     "data": {
      "text/plain": [
       "0                    Property Crimes\n",
       "1                    Property Crimes\n",
       "2                    Property Crimes\n",
       "3                    Property Crimes\n",
       "4                    Property Crimes\n",
       "                    ...             \n",
       "19995                 Violent Crimes\n",
       "19996                Property Crimes\n",
       "19997                Property Crimes\n",
       "19998    Crimes against Public Order\n",
       "19999                Property Crimes\n",
       "Name: Crime_Category, Length: 20000, dtype: object"
      ]
     },
     "execution_count": 14,
     "metadata": {},
     "output_type": "execute_result"
    }
   ],
   "source": [
    "y"
   ]
  },
  {
   "cell_type": "code",
   "execution_count": 15,
   "id": "7f8b395c",
   "metadata": {
    "execution": {
     "iopub.execute_input": "2024-08-16T22:10:00.710063Z",
     "iopub.status.busy": "2024-08-16T22:10:00.709291Z",
     "iopub.status.idle": "2024-08-16T22:10:00.721341Z",
     "shell.execute_reply": "2024-08-16T22:10:00.720217Z"
    },
    "papermill": {
     "duration": 0.040407,
     "end_time": "2024-08-16T22:10:00.723693",
     "exception": false,
     "start_time": "2024-08-16T22:10:00.683286",
     "status": "completed"
    },
    "tags": []
   },
   "outputs": [
    {
     "data": {
      "text/plain": [
       "Crime_Category\n",
       "Property Crimes                  11666\n",
       "Violent Crimes                    4767\n",
       "Crimes against Public Order       1808\n",
       "Fraud and White-Collar Crimes     1355\n",
       "Crimes against Persons             225\n",
       "Other Crimes                       179\n",
       "Name: count, dtype: int64"
      ]
     },
     "execution_count": 15,
     "metadata": {},
     "output_type": "execute_result"
    }
   ],
   "source": [
    "#before encoding\n",
    "y.value_counts()"
   ]
  },
  {
   "cell_type": "markdown",
   "id": "c30b8f1f",
   "metadata": {
    "papermill": {
     "duration": 0.023305,
     "end_time": "2024-08-16T22:10:00.770622",
     "exception": false,
     "start_time": "2024-08-16T22:10:00.747317",
     "status": "completed"
    },
    "tags": []
   },
   "source": [
    "# **-->encoding categorical features**"
   ]
  },
  {
   "cell_type": "code",
   "execution_count": 16,
   "id": "ef3950cf",
   "metadata": {
    "execution": {
     "iopub.execute_input": "2024-08-16T22:10:00.819549Z",
     "iopub.status.busy": "2024-08-16T22:10:00.819132Z",
     "iopub.status.idle": "2024-08-16T22:10:00.830935Z",
     "shell.execute_reply": "2024-08-16T22:10:00.829759Z"
    },
    "papermill": {
     "duration": 0.039168,
     "end_time": "2024-08-16T22:10:00.833424",
     "exception": false,
     "start_time": "2024-08-16T22:10:00.794256",
     "status": "completed"
    },
    "tags": []
   },
   "outputs": [
    {
     "data": {
      "text/plain": [
       "['Property Crimes',\n",
       " 'Violent Crimes',\n",
       " 'Crimes against Public Order',\n",
       " 'Fraud and White-Collar Crimes',\n",
       " 'Crimes against Persons',\n",
       " 'Other Crimes']"
      ]
     },
     "execution_count": 16,
     "metadata": {},
     "output_type": "execute_result"
    }
   ],
   "source": [
    "#puttng the crime category into list according to their value count\n",
    "y_labels=y.value_counts().index.to_list()\n",
    "y_labels"
   ]
  },
  {
   "cell_type": "code",
   "execution_count": 17,
   "id": "dcc26cf6",
   "metadata": {
    "execution": {
     "iopub.execute_input": "2024-08-16T22:10:00.946875Z",
     "iopub.status.busy": "2024-08-16T22:10:00.946497Z",
     "iopub.status.idle": "2024-08-16T22:10:00.968456Z",
     "shell.execute_reply": "2024-08-16T22:10:00.967350Z"
    },
    "papermill": {
     "duration": 0.050451,
     "end_time": "2024-08-16T22:10:00.971252",
     "exception": false,
     "start_time": "2024-08-16T22:10:00.920801",
     "status": "completed"
    },
    "tags": []
   },
   "outputs": [],
   "source": [
    "#converting each label in y to its corresponding index in the y_labels list.\n",
    "y = y.map(lambda x: y_labels.index(x))"
   ]
  },
  {
   "cell_type": "code",
   "execution_count": 18,
   "id": "de6d015f",
   "metadata": {
    "execution": {
     "iopub.execute_input": "2024-08-16T22:10:01.022595Z",
     "iopub.status.busy": "2024-08-16T22:10:01.022156Z",
     "iopub.status.idle": "2024-08-16T22:10:01.034049Z",
     "shell.execute_reply": "2024-08-16T22:10:01.032845Z"
    },
    "papermill": {
     "duration": 0.041192,
     "end_time": "2024-08-16T22:10:01.036644",
     "exception": false,
     "start_time": "2024-08-16T22:10:00.995452",
     "status": "completed"
    },
    "tags": []
   },
   "outputs": [
    {
     "data": {
      "text/plain": [
       "Crime_Category\n",
       "0    11666\n",
       "1     4767\n",
       "2     1808\n",
       "3     1355\n",
       "4      225\n",
       "5      179\n",
       "Name: count, dtype: int64"
      ]
     },
     "execution_count": 18,
     "metadata": {},
     "output_type": "execute_result"
    }
   ],
   "source": [
    "#after encoding\n",
    "y.value_counts()"
   ]
  },
  {
   "cell_type": "markdown",
   "id": "7b787daa",
   "metadata": {
    "papermill": {
     "duration": 0.024512,
     "end_time": "2024-08-16T22:10:01.085081",
     "exception": false,
     "start_time": "2024-08-16T22:10:01.060569",
     "status": "completed"
    },
    "tags": []
   },
   "source": [
    "# **-->spliting the train test dataset**"
   ]
  },
  {
   "cell_type": "code",
   "execution_count": 19,
   "id": "2e1bc042",
   "metadata": {
    "execution": {
     "iopub.execute_input": "2024-08-16T22:10:01.135538Z",
     "iopub.status.busy": "2024-08-16T22:10:01.135086Z",
     "iopub.status.idle": "2024-08-16T22:10:01.184446Z",
     "shell.execute_reply": "2024-08-16T22:10:01.183254Z"
    },
    "papermill": {
     "duration": 0.07837,
     "end_time": "2024-08-16T22:10:01.187411",
     "exception": false,
     "start_time": "2024-08-16T22:10:01.109041",
     "status": "completed"
    },
    "tags": []
   },
   "outputs": [
    {
     "data": {
      "text/html": [
       "<div>\n",
       "<style scoped>\n",
       "    .dataframe tbody tr th:only-of-type {\n",
       "        vertical-align: middle;\n",
       "    }\n",
       "\n",
       "    .dataframe tbody tr th {\n",
       "        vertical-align: top;\n",
       "    }\n",
       "\n",
       "    .dataframe thead th {\n",
       "        text-align: right;\n",
       "    }\n",
       "</style>\n",
       "<table border=\"1\" class=\"dataframe\">\n",
       "  <thead>\n",
       "    <tr style=\"text-align: right;\">\n",
       "      <th></th>\n",
       "      <th>Location</th>\n",
       "      <th>Cross_Street</th>\n",
       "      <th>Latitude</th>\n",
       "      <th>Longitude</th>\n",
       "      <th>Date_Reported</th>\n",
       "      <th>Date_Occurred</th>\n",
       "      <th>Time_Occurred</th>\n",
       "      <th>Area_ID</th>\n",
       "      <th>Area_Name</th>\n",
       "      <th>Reporting_District_no</th>\n",
       "      <th>...</th>\n",
       "      <th>Modus_Operandi</th>\n",
       "      <th>Victim_Age</th>\n",
       "      <th>Victim_Sex</th>\n",
       "      <th>Victim_Descent</th>\n",
       "      <th>Premise_Code</th>\n",
       "      <th>Premise_Description</th>\n",
       "      <th>Weapon_Used_Code</th>\n",
       "      <th>Weapon_Description</th>\n",
       "      <th>Status</th>\n",
       "      <th>Status_Description</th>\n",
       "    </tr>\n",
       "  </thead>\n",
       "  <tbody>\n",
       "    <tr>\n",
       "      <th>17218</th>\n",
       "      <td>VANOWEN                      ST</td>\n",
       "      <td>TUJUNGA                      AV</td>\n",
       "      <td>34.1940</td>\n",
       "      <td>-118.3790</td>\n",
       "      <td>07/11/2020 12:00:00 AM</td>\n",
       "      <td>07/09/2020 12:00:00 AM</td>\n",
       "      <td>1500.0</td>\n",
       "      <td>15.0</td>\n",
       "      <td>N Hollywood</td>\n",
       "      <td>1516.0</td>\n",
       "      <td>...</td>\n",
       "      <td>NaN</td>\n",
       "      <td>0.0</td>\n",
       "      <td>NaN</td>\n",
       "      <td>NaN</td>\n",
       "      <td>101.0</td>\n",
       "      <td>STREET</td>\n",
       "      <td>NaN</td>\n",
       "      <td>NaN</td>\n",
       "      <td>IC</td>\n",
       "      <td>Invest Cont</td>\n",
       "    </tr>\n",
       "    <tr>\n",
       "      <th>15188</th>\n",
       "      <td>12800 W  RIVERSIDE                    DR</td>\n",
       "      <td>NaN</td>\n",
       "      <td>34.1576</td>\n",
       "      <td>-118.4122</td>\n",
       "      <td>08/19/2020 12:00:00 AM</td>\n",
       "      <td>08/14/2020 12:00:00 AM</td>\n",
       "      <td>1730.0</td>\n",
       "      <td>9.0</td>\n",
       "      <td>Van Nuys</td>\n",
       "      <td>969.0</td>\n",
       "      <td>...</td>\n",
       "      <td>0344 1300 0385</td>\n",
       "      <td>30.0</td>\n",
       "      <td>F</td>\n",
       "      <td>O</td>\n",
       "      <td>123.0</td>\n",
       "      <td>PARKING UNDERGROUND/BUILDING</td>\n",
       "      <td>NaN</td>\n",
       "      <td>NaN</td>\n",
       "      <td>IC</td>\n",
       "      <td>Invest Cont</td>\n",
       "    </tr>\n",
       "    <tr>\n",
       "      <th>11295</th>\n",
       "      <td>1500 N  FRIES                        AV</td>\n",
       "      <td>NaN</td>\n",
       "      <td>33.7932</td>\n",
       "      <td>-118.2659</td>\n",
       "      <td>05/23/2020 12:00:00 AM</td>\n",
       "      <td>05/22/2020 12:00:00 AM</td>\n",
       "      <td>1700.0</td>\n",
       "      <td>5.0</td>\n",
       "      <td>Harbor</td>\n",
       "      <td>515.0</td>\n",
       "      <td>...</td>\n",
       "      <td>0329 0344 0377 1300 1601</td>\n",
       "      <td>40.0</td>\n",
       "      <td>F</td>\n",
       "      <td>H</td>\n",
       "      <td>101.0</td>\n",
       "      <td>STREET</td>\n",
       "      <td>NaN</td>\n",
       "      <td>NaN</td>\n",
       "      <td>IC</td>\n",
       "      <td>Invest Cont</td>\n",
       "    </tr>\n",
       "    <tr>\n",
       "      <th>19772</th>\n",
       "      <td>1200 W  80TH                         ST</td>\n",
       "      <td>NaN</td>\n",
       "      <td>33.9665</td>\n",
       "      <td>-118.2993</td>\n",
       "      <td>10/19/2020 12:00:00 AM</td>\n",
       "      <td>10/19/2020 12:00:00 AM</td>\n",
       "      <td>930.0</td>\n",
       "      <td>12.0</td>\n",
       "      <td>77th Street</td>\n",
       "      <td>1265.0</td>\n",
       "      <td>...</td>\n",
       "      <td>0908 0421 0329 0319 1309</td>\n",
       "      <td>56.0</td>\n",
       "      <td>M</td>\n",
       "      <td>B</td>\n",
       "      <td>501.0</td>\n",
       "      <td>SINGLE FAMILY DWELLING</td>\n",
       "      <td>NaN</td>\n",
       "      <td>NaN</td>\n",
       "      <td>IC</td>\n",
       "      <td>Invest Cont</td>\n",
       "    </tr>\n",
       "    <tr>\n",
       "      <th>13072</th>\n",
       "      <td>1400 W  52ND                         ST</td>\n",
       "      <td>NaN</td>\n",
       "      <td>33.9974</td>\n",
       "      <td>-118.2982</td>\n",
       "      <td>02/20/2020 12:00:00 AM</td>\n",
       "      <td>02/18/2020 12:00:00 AM</td>\n",
       "      <td>1214.0</td>\n",
       "      <td>12.0</td>\n",
       "      <td>77th Street</td>\n",
       "      <td>1205.0</td>\n",
       "      <td>...</td>\n",
       "      <td>2038 0913</td>\n",
       "      <td>43.0</td>\n",
       "      <td>F</td>\n",
       "      <td>B</td>\n",
       "      <td>501.0</td>\n",
       "      <td>SINGLE FAMILY DWELLING</td>\n",
       "      <td>NaN</td>\n",
       "      <td>NaN</td>\n",
       "      <td>AO</td>\n",
       "      <td>Adult Other</td>\n",
       "    </tr>\n",
       "  </tbody>\n",
       "</table>\n",
       "<p>5 rows × 21 columns</p>\n",
       "</div>"
      ],
      "text/plain": [
       "                                       Location  \\\n",
       "17218           VANOWEN                      ST   \n",
       "15188  12800 W  RIVERSIDE                    DR   \n",
       "11295   1500 N  FRIES                        AV   \n",
       "19772   1200 W  80TH                         ST   \n",
       "13072   1400 W  52ND                         ST   \n",
       "\n",
       "                          Cross_Street  Latitude  Longitude  \\\n",
       "17218  TUJUNGA                      AV   34.1940  -118.3790   \n",
       "15188                              NaN   34.1576  -118.4122   \n",
       "11295                              NaN   33.7932  -118.2659   \n",
       "19772                              NaN   33.9665  -118.2993   \n",
       "13072                              NaN   33.9974  -118.2982   \n",
       "\n",
       "                Date_Reported           Date_Occurred  Time_Occurred  Area_ID  \\\n",
       "17218  07/11/2020 12:00:00 AM  07/09/2020 12:00:00 AM         1500.0     15.0   \n",
       "15188  08/19/2020 12:00:00 AM  08/14/2020 12:00:00 AM         1730.0      9.0   \n",
       "11295  05/23/2020 12:00:00 AM  05/22/2020 12:00:00 AM         1700.0      5.0   \n",
       "19772  10/19/2020 12:00:00 AM  10/19/2020 12:00:00 AM          930.0     12.0   \n",
       "13072  02/20/2020 12:00:00 AM  02/18/2020 12:00:00 AM         1214.0     12.0   \n",
       "\n",
       "         Area_Name  Reporting_District_no  ...            Modus_Operandi  \\\n",
       "17218  N Hollywood                 1516.0  ...                       NaN   \n",
       "15188     Van Nuys                  969.0  ...            0344 1300 0385   \n",
       "11295       Harbor                  515.0  ...  0329 0344 0377 1300 1601   \n",
       "19772  77th Street                 1265.0  ...  0908 0421 0329 0319 1309   \n",
       "13072  77th Street                 1205.0  ...                 2038 0913   \n",
       "\n",
       "      Victim_Age  Victim_Sex Victim_Descent Premise_Code  \\\n",
       "17218        0.0         NaN            NaN        101.0   \n",
       "15188       30.0           F              O        123.0   \n",
       "11295       40.0           F              H        101.0   \n",
       "19772       56.0           M              B        501.0   \n",
       "13072       43.0           F              B        501.0   \n",
       "\n",
       "                Premise_Description Weapon_Used_Code  Weapon_Description  \\\n",
       "17218                        STREET              NaN                 NaN   \n",
       "15188  PARKING UNDERGROUND/BUILDING              NaN                 NaN   \n",
       "11295                        STREET              NaN                 NaN   \n",
       "19772        SINGLE FAMILY DWELLING              NaN                 NaN   \n",
       "13072        SINGLE FAMILY DWELLING              NaN                 NaN   \n",
       "\n",
       "      Status Status_Description  \n",
       "17218     IC        Invest Cont  \n",
       "15188     IC        Invest Cont  \n",
       "11295     IC        Invest Cont  \n",
       "19772     IC        Invest Cont  \n",
       "13072     AO        Adult Other  \n",
       "\n",
       "[5 rows x 21 columns]"
      ]
     },
     "execution_count": 19,
     "metadata": {},
     "output_type": "execute_result"
    }
   ],
   "source": [
    "x_train, x_test, y_train, y_test= train_test_split(x,y, test_size=0.3, random_state=42 )\n",
    "x_train.head()"
   ]
  },
  {
   "cell_type": "code",
   "execution_count": 20,
   "id": "d5c5335f",
   "metadata": {
    "execution": {
     "iopub.execute_input": "2024-08-16T22:10:01.238452Z",
     "iopub.status.busy": "2024-08-16T22:10:01.237998Z",
     "iopub.status.idle": "2024-08-16T22:10:01.247120Z",
     "shell.execute_reply": "2024-08-16T22:10:01.245957Z"
    },
    "papermill": {
     "duration": 0.037713,
     "end_time": "2024-08-16T22:10:01.249707",
     "exception": false,
     "start_time": "2024-08-16T22:10:01.211994",
     "status": "completed"
    },
    "tags": []
   },
   "outputs": [
    {
     "data": {
      "text/plain": [
       "['Latitude',\n",
       " 'Longitude',\n",
       " 'Time_Occurred',\n",
       " 'Area_ID',\n",
       " 'Reporting_District_no',\n",
       " 'Part 1-2',\n",
       " 'Victim_Age',\n",
       " 'Premise_Code',\n",
       " 'Weapon_Used_Code']"
      ]
     },
     "execution_count": 20,
     "metadata": {},
     "output_type": "execute_result"
    }
   ],
   "source": [
    "#creating list of columns having numerical value\n",
    "num_cols= x_train.select_dtypes(include=\"float64\").columns.to_list()\n",
    "num_cols"
   ]
  },
  {
   "cell_type": "code",
   "execution_count": 21,
   "id": "90855a67",
   "metadata": {
    "execution": {
     "iopub.execute_input": "2024-08-16T22:10:01.301516Z",
     "iopub.status.busy": "2024-08-16T22:10:01.301073Z",
     "iopub.status.idle": "2024-08-16T22:10:01.311089Z",
     "shell.execute_reply": "2024-08-16T22:10:01.309656Z"
    },
    "papermill": {
     "duration": 0.038916,
     "end_time": "2024-08-16T22:10:01.313613",
     "exception": false,
     "start_time": "2024-08-16T22:10:01.274697",
     "status": "completed"
    },
    "tags": []
   },
   "outputs": [],
   "source": [
    "#integrating the above list into the dataset\n",
    "x_train= x_train[num_cols]\n",
    "x_test= x_test[num_cols]\n",
    "test_data=test_data[num_cols]"
   ]
  },
  {
   "cell_type": "code",
   "execution_count": 22,
   "id": "b97d5b5a",
   "metadata": {
    "execution": {
     "iopub.execute_input": "2024-08-16T22:10:01.364862Z",
     "iopub.status.busy": "2024-08-16T22:10:01.364390Z",
     "iopub.status.idle": "2024-08-16T22:10:01.390351Z",
     "shell.execute_reply": "2024-08-16T22:10:01.389221Z"
    },
    "papermill": {
     "duration": 0.054757,
     "end_time": "2024-08-16T22:10:01.392916",
     "exception": false,
     "start_time": "2024-08-16T22:10:01.338159",
     "status": "completed"
    },
    "tags": []
   },
   "outputs": [
    {
     "data": {
      "text/html": [
       "<div>\n",
       "<style scoped>\n",
       "    .dataframe tbody tr th:only-of-type {\n",
       "        vertical-align: middle;\n",
       "    }\n",
       "\n",
       "    .dataframe tbody tr th {\n",
       "        vertical-align: top;\n",
       "    }\n",
       "\n",
       "    .dataframe thead th {\n",
       "        text-align: right;\n",
       "    }\n",
       "</style>\n",
       "<table border=\"1\" class=\"dataframe\">\n",
       "  <thead>\n",
       "    <tr style=\"text-align: right;\">\n",
       "      <th></th>\n",
       "      <th>Latitude</th>\n",
       "      <th>Longitude</th>\n",
       "      <th>Time_Occurred</th>\n",
       "      <th>Area_ID</th>\n",
       "      <th>Reporting_District_no</th>\n",
       "      <th>Part 1-2</th>\n",
       "      <th>Victim_Age</th>\n",
       "      <th>Premise_Code</th>\n",
       "      <th>Weapon_Used_Code</th>\n",
       "    </tr>\n",
       "  </thead>\n",
       "  <tbody>\n",
       "    <tr>\n",
       "      <th>17218</th>\n",
       "      <td>34.1940</td>\n",
       "      <td>-118.3790</td>\n",
       "      <td>1500.0</td>\n",
       "      <td>15.0</td>\n",
       "      <td>1516.0</td>\n",
       "      <td>1.0</td>\n",
       "      <td>0.0</td>\n",
       "      <td>101.0</td>\n",
       "      <td>NaN</td>\n",
       "    </tr>\n",
       "    <tr>\n",
       "      <th>15188</th>\n",
       "      <td>34.1576</td>\n",
       "      <td>-118.4122</td>\n",
       "      <td>1730.0</td>\n",
       "      <td>9.0</td>\n",
       "      <td>969.0</td>\n",
       "      <td>1.0</td>\n",
       "      <td>30.0</td>\n",
       "      <td>123.0</td>\n",
       "      <td>NaN</td>\n",
       "    </tr>\n",
       "    <tr>\n",
       "      <th>11295</th>\n",
       "      <td>33.7932</td>\n",
       "      <td>-118.2659</td>\n",
       "      <td>1700.0</td>\n",
       "      <td>5.0</td>\n",
       "      <td>515.0</td>\n",
       "      <td>1.0</td>\n",
       "      <td>40.0</td>\n",
       "      <td>101.0</td>\n",
       "      <td>NaN</td>\n",
       "    </tr>\n",
       "    <tr>\n",
       "      <th>19772</th>\n",
       "      <td>33.9665</td>\n",
       "      <td>-118.2993</td>\n",
       "      <td>930.0</td>\n",
       "      <td>12.0</td>\n",
       "      <td>1265.0</td>\n",
       "      <td>2.0</td>\n",
       "      <td>56.0</td>\n",
       "      <td>501.0</td>\n",
       "      <td>NaN</td>\n",
       "    </tr>\n",
       "    <tr>\n",
       "      <th>13072</th>\n",
       "      <td>33.9974</td>\n",
       "      <td>-118.2982</td>\n",
       "      <td>1214.0</td>\n",
       "      <td>12.0</td>\n",
       "      <td>1205.0</td>\n",
       "      <td>2.0</td>\n",
       "      <td>43.0</td>\n",
       "      <td>501.0</td>\n",
       "      <td>NaN</td>\n",
       "    </tr>\n",
       "    <tr>\n",
       "      <th>19921</th>\n",
       "      <td>33.9456</td>\n",
       "      <td>-118.2695</td>\n",
       "      <td>1200.0</td>\n",
       "      <td>18.0</td>\n",
       "      <td>1823.0</td>\n",
       "      <td>2.0</td>\n",
       "      <td>22.0</td>\n",
       "      <td>502.0</td>\n",
       "      <td>400.0</td>\n",
       "    </tr>\n",
       "    <tr>\n",
       "      <th>6649</th>\n",
       "      <td>34.0998</td>\n",
       "      <td>-118.3211</td>\n",
       "      <td>100.0</td>\n",
       "      <td>6.0</td>\n",
       "      <td>647.0</td>\n",
       "      <td>1.0</td>\n",
       "      <td>21.0</td>\n",
       "      <td>207.0</td>\n",
       "      <td>NaN</td>\n",
       "    </tr>\n",
       "    <tr>\n",
       "      <th>11581</th>\n",
       "      <td>34.0480</td>\n",
       "      <td>-118.2577</td>\n",
       "      <td>830.0</td>\n",
       "      <td>1.0</td>\n",
       "      <td>162.0</td>\n",
       "      <td>2.0</td>\n",
       "      <td>28.0</td>\n",
       "      <td>252.0</td>\n",
       "      <td>500.0</td>\n",
       "    </tr>\n",
       "    <tr>\n",
       "      <th>8076</th>\n",
       "      <td>34.0921</td>\n",
       "      <td>-118.2105</td>\n",
       "      <td>2040.0</td>\n",
       "      <td>11.0</td>\n",
       "      <td>1179.0</td>\n",
       "      <td>1.0</td>\n",
       "      <td>40.0</td>\n",
       "      <td>101.0</td>\n",
       "      <td>102.0</td>\n",
       "    </tr>\n",
       "    <tr>\n",
       "      <th>10911</th>\n",
       "      <td>34.2626</td>\n",
       "      <td>-118.4094</td>\n",
       "      <td>1908.0</td>\n",
       "      <td>16.0</td>\n",
       "      <td>1645.0</td>\n",
       "      <td>1.0</td>\n",
       "      <td>0.0</td>\n",
       "      <td>101.0</td>\n",
       "      <td>500.0</td>\n",
       "    </tr>\n",
       "  </tbody>\n",
       "</table>\n",
       "</div>"
      ],
      "text/plain": [
       "       Latitude  Longitude  Time_Occurred  Area_ID  Reporting_District_no  \\\n",
       "17218   34.1940  -118.3790         1500.0     15.0                 1516.0   \n",
       "15188   34.1576  -118.4122         1730.0      9.0                  969.0   \n",
       "11295   33.7932  -118.2659         1700.0      5.0                  515.0   \n",
       "19772   33.9665  -118.2993          930.0     12.0                 1265.0   \n",
       "13072   33.9974  -118.2982         1214.0     12.0                 1205.0   \n",
       "19921   33.9456  -118.2695         1200.0     18.0                 1823.0   \n",
       "6649    34.0998  -118.3211          100.0      6.0                  647.0   \n",
       "11581   34.0480  -118.2577          830.0      1.0                  162.0   \n",
       "8076    34.0921  -118.2105         2040.0     11.0                 1179.0   \n",
       "10911   34.2626  -118.4094         1908.0     16.0                 1645.0   \n",
       "\n",
       "       Part 1-2  Victim_Age  Premise_Code  Weapon_Used_Code  \n",
       "17218       1.0         0.0         101.0               NaN  \n",
       "15188       1.0        30.0         123.0               NaN  \n",
       "11295       1.0        40.0         101.0               NaN  \n",
       "19772       2.0        56.0         501.0               NaN  \n",
       "13072       2.0        43.0         501.0               NaN  \n",
       "19921       2.0        22.0         502.0             400.0  \n",
       "6649        1.0        21.0         207.0               NaN  \n",
       "11581       2.0        28.0         252.0             500.0  \n",
       "8076        1.0        40.0         101.0             102.0  \n",
       "10911       1.0         0.0         101.0             500.0  "
      ]
     },
     "execution_count": 22,
     "metadata": {},
     "output_type": "execute_result"
    }
   ],
   "source": [
    "x_train.head(10)"
   ]
  },
  {
   "cell_type": "code",
   "execution_count": 23,
   "id": "03ec5cf4",
   "metadata": {
    "execution": {
     "iopub.execute_input": "2024-08-16T22:10:01.444519Z",
     "iopub.status.busy": "2024-08-16T22:10:01.444089Z",
     "iopub.status.idle": "2024-08-16T22:10:01.486706Z",
     "shell.execute_reply": "2024-08-16T22:10:01.485357Z"
    },
    "papermill": {
     "duration": 0.071476,
     "end_time": "2024-08-16T22:10:01.489373",
     "exception": false,
     "start_time": "2024-08-16T22:10:01.417897",
     "status": "completed"
    },
    "tags": []
   },
   "outputs": [
    {
     "data": {
      "text/html": [
       "<div>\n",
       "<style scoped>\n",
       "    .dataframe tbody tr th:only-of-type {\n",
       "        vertical-align: middle;\n",
       "    }\n",
       "\n",
       "    .dataframe tbody tr th {\n",
       "        vertical-align: top;\n",
       "    }\n",
       "\n",
       "    .dataframe thead th {\n",
       "        text-align: right;\n",
       "    }\n",
       "</style>\n",
       "<table border=\"1\" class=\"dataframe\">\n",
       "  <thead>\n",
       "    <tr style=\"text-align: right;\">\n",
       "      <th></th>\n",
       "      <th>Latitude</th>\n",
       "      <th>Longitude</th>\n",
       "      <th>Time_Occurred</th>\n",
       "      <th>Area_ID</th>\n",
       "      <th>Reporting_District_no</th>\n",
       "      <th>Part 1-2</th>\n",
       "      <th>Victim_Age</th>\n",
       "      <th>Premise_Code</th>\n",
       "      <th>Weapon_Used_Code</th>\n",
       "    </tr>\n",
       "  </thead>\n",
       "  <tbody>\n",
       "    <tr>\n",
       "      <th>count</th>\n",
       "      <td>14000.000000</td>\n",
       "      <td>14000.000000</td>\n",
       "      <td>14000.000000</td>\n",
       "      <td>14000.000000</td>\n",
       "      <td>14000.000000</td>\n",
       "      <td>14000.000000</td>\n",
       "      <td>14000.000000</td>\n",
       "      <td>14000.000000</td>\n",
       "      <td>5095.000000</td>\n",
       "    </tr>\n",
       "    <tr>\n",
       "      <th>mean</th>\n",
       "      <td>33.937695</td>\n",
       "      <td>-117.881610</td>\n",
       "      <td>1354.516286</td>\n",
       "      <td>10.839286</td>\n",
       "      <td>1129.960357</td>\n",
       "      <td>1.418357</td>\n",
       "      <td>30.016643</td>\n",
       "      <td>298.287500</td>\n",
       "      <td>366.249657</td>\n",
       "    </tr>\n",
       "    <tr>\n",
       "      <th>std</th>\n",
       "      <td>2.153754</td>\n",
       "      <td>7.471422</td>\n",
       "      <td>647.553203</td>\n",
       "      <td>6.013049</td>\n",
       "      <td>601.396842</td>\n",
       "      <td>0.493307</td>\n",
       "      <td>21.910596</td>\n",
       "      <td>212.795596</td>\n",
       "      <td>120.871863</td>\n",
       "    </tr>\n",
       "    <tr>\n",
       "      <th>min</th>\n",
       "      <td>0.000000</td>\n",
       "      <td>-118.663400</td>\n",
       "      <td>1.000000</td>\n",
       "      <td>1.000000</td>\n",
       "      <td>101.000000</td>\n",
       "      <td>1.000000</td>\n",
       "      <td>-2.000000</td>\n",
       "      <td>101.000000</td>\n",
       "      <td>101.000000</td>\n",
       "    </tr>\n",
       "    <tr>\n",
       "      <th>25%</th>\n",
       "      <td>34.009100</td>\n",
       "      <td>-118.430800</td>\n",
       "      <td>930.000000</td>\n",
       "      <td>6.000000</td>\n",
       "      <td>636.000000</td>\n",
       "      <td>1.000000</td>\n",
       "      <td>10.000000</td>\n",
       "      <td>101.000000</td>\n",
       "      <td>312.000000</td>\n",
       "    </tr>\n",
       "    <tr>\n",
       "      <th>50%</th>\n",
       "      <td>34.058900</td>\n",
       "      <td>-118.323600</td>\n",
       "      <td>1430.000000</td>\n",
       "      <td>11.000000</td>\n",
       "      <td>1162.000000</td>\n",
       "      <td>1.000000</td>\n",
       "      <td>31.000000</td>\n",
       "      <td>203.000000</td>\n",
       "      <td>400.000000</td>\n",
       "    </tr>\n",
       "    <tr>\n",
       "      <th>75%</th>\n",
       "      <td>34.166500</td>\n",
       "      <td>-118.275500</td>\n",
       "      <td>1900.000000</td>\n",
       "      <td>16.000000</td>\n",
       "      <td>1621.000000</td>\n",
       "      <td>2.000000</td>\n",
       "      <td>46.000000</td>\n",
       "      <td>501.000000</td>\n",
       "      <td>400.000000</td>\n",
       "    </tr>\n",
       "    <tr>\n",
       "      <th>max</th>\n",
       "      <td>34.328100</td>\n",
       "      <td>0.000000</td>\n",
       "      <td>2359.000000</td>\n",
       "      <td>21.000000</td>\n",
       "      <td>2197.000000</td>\n",
       "      <td>2.000000</td>\n",
       "      <td>99.000000</td>\n",
       "      <td>966.000000</td>\n",
       "      <td>515.000000</td>\n",
       "    </tr>\n",
       "  </tbody>\n",
       "</table>\n",
       "</div>"
      ],
      "text/plain": [
       "           Latitude     Longitude  Time_Occurred       Area_ID  \\\n",
       "count  14000.000000  14000.000000   14000.000000  14000.000000   \n",
       "mean      33.937695   -117.881610    1354.516286     10.839286   \n",
       "std        2.153754      7.471422     647.553203      6.013049   \n",
       "min        0.000000   -118.663400       1.000000      1.000000   \n",
       "25%       34.009100   -118.430800     930.000000      6.000000   \n",
       "50%       34.058900   -118.323600    1430.000000     11.000000   \n",
       "75%       34.166500   -118.275500    1900.000000     16.000000   \n",
       "max       34.328100      0.000000    2359.000000     21.000000   \n",
       "\n",
       "       Reporting_District_no      Part 1-2    Victim_Age  Premise_Code  \\\n",
       "count           14000.000000  14000.000000  14000.000000  14000.000000   \n",
       "mean             1129.960357      1.418357     30.016643    298.287500   \n",
       "std               601.396842      0.493307     21.910596    212.795596   \n",
       "min               101.000000      1.000000     -2.000000    101.000000   \n",
       "25%               636.000000      1.000000     10.000000    101.000000   \n",
       "50%              1162.000000      1.000000     31.000000    203.000000   \n",
       "75%              1621.000000      2.000000     46.000000    501.000000   \n",
       "max              2197.000000      2.000000     99.000000    966.000000   \n",
       "\n",
       "       Weapon_Used_Code  \n",
       "count       5095.000000  \n",
       "mean         366.249657  \n",
       "std          120.871863  \n",
       "min          101.000000  \n",
       "25%          312.000000  \n",
       "50%          400.000000  \n",
       "75%          400.000000  \n",
       "max          515.000000  "
      ]
     },
     "execution_count": 23,
     "metadata": {},
     "output_type": "execute_result"
    }
   ],
   "source": [
    "x_train.describe()"
   ]
  },
  {
   "cell_type": "markdown",
   "id": "4c33d833",
   "metadata": {
    "papermill": {
     "duration": 0.024991,
     "end_time": "2024-08-16T22:10:01.539730",
     "exception": false,
     "start_time": "2024-08-16T22:10:01.514739",
     "status": "completed"
    },
    "tags": []
   },
   "source": [
    "# **Detecting missing data**"
   ]
  },
  {
   "cell_type": "code",
   "execution_count": 24,
   "id": "92e31c04",
   "metadata": {
    "execution": {
     "iopub.execute_input": "2024-08-16T22:10:01.593932Z",
     "iopub.status.busy": "2024-08-16T22:10:01.592734Z",
     "iopub.status.idle": "2024-08-16T22:10:01.602575Z",
     "shell.execute_reply": "2024-08-16T22:10:01.601369Z"
    },
    "papermill": {
     "duration": 0.03981,
     "end_time": "2024-08-16T22:10:01.605049",
     "exception": false,
     "start_time": "2024-08-16T22:10:01.565239",
     "status": "completed"
    },
    "tags": []
   },
   "outputs": [
    {
     "data": {
      "text/plain": [
       "Latitude                    0\n",
       "Longitude                   0\n",
       "Time_Occurred               0\n",
       "Area_ID                     0\n",
       "Reporting_District_no       0\n",
       "Part 1-2                    0\n",
       "Victim_Age                  0\n",
       "Premise_Code                0\n",
       "Weapon_Used_Code         8905\n",
       "dtype: int64"
      ]
     },
     "execution_count": 24,
     "metadata": {},
     "output_type": "execute_result"
    }
   ],
   "source": [
    "#checking the columns for null value\n",
    "x_train.isnull().sum()"
   ]
  },
  {
   "cell_type": "code",
   "execution_count": 25,
   "id": "b18d591c",
   "metadata": {
    "execution": {
     "iopub.execute_input": "2024-08-16T22:10:01.660715Z",
     "iopub.status.busy": "2024-08-16T22:10:01.660294Z",
     "iopub.status.idle": "2024-08-16T22:10:01.671326Z",
     "shell.execute_reply": "2024-08-16T22:10:01.670210Z"
    },
    "papermill": {
     "duration": 0.041768,
     "end_time": "2024-08-16T22:10:01.674026",
     "exception": false,
     "start_time": "2024-08-16T22:10:01.632258",
     "status": "completed"
    },
    "tags": []
   },
   "outputs": [
    {
     "data": {
      "text/plain": [
       "['Weapon_Used_Code']"
      ]
     },
     "execution_count": 25,
     "metadata": {},
     "output_type": "execute_result"
    }
   ],
   "source": [
    "null_colm = [col for col in x_train.columns if x_train[col].isnull().any() ]\n",
    "null_colm"
   ]
  },
  {
   "cell_type": "code",
   "execution_count": 26,
   "id": "7a2e1c8c",
   "metadata": {
    "execution": {
     "iopub.execute_input": "2024-08-16T22:10:01.729962Z",
     "iopub.status.busy": "2024-08-16T22:10:01.729523Z",
     "iopub.status.idle": "2024-08-16T22:10:01.742239Z",
     "shell.execute_reply": "2024-08-16T22:10:01.741080Z"
    },
    "papermill": {
     "duration": 0.042626,
     "end_time": "2024-08-16T22:10:01.744855",
     "exception": false,
     "start_time": "2024-08-16T22:10:01.702229",
     "status": "completed"
    },
    "tags": []
   },
   "outputs": [
    {
     "data": {
      "text/plain": [
       "count    5095.000000\n",
       "mean      366.249657\n",
       "std       120.871863\n",
       "min       101.000000\n",
       "25%       312.000000\n",
       "50%       400.000000\n",
       "75%       400.000000\n",
       "max       515.000000\n",
       "Name: Weapon_Used_Code, dtype: float64"
      ]
     },
     "execution_count": 26,
     "metadata": {},
     "output_type": "execute_result"
    }
   ],
   "source": [
    "x_train[\"Weapon_Used_Code\"].describe()"
   ]
  },
  {
   "cell_type": "markdown",
   "id": "fc6ae441",
   "metadata": {
    "papermill": {
     "duration": 0.02646,
     "end_time": "2024-08-16T22:10:01.798705",
     "exception": false,
     "start_time": "2024-08-16T22:10:01.772245",
     "status": "completed"
    },
    "tags": []
   },
   "source": [
    "# **Imputation**"
   ]
  },
  {
   "cell_type": "markdown",
   "id": "1732a929",
   "metadata": {
    "papermill": {
     "duration": 0.025677,
     "end_time": "2024-08-16T22:10:01.851442",
     "exception": false,
     "start_time": "2024-08-16T22:10:01.825765",
     "status": "completed"
    },
    "tags": []
   },
   "source": [
    "**Replaceing missing values with the mean**"
   ]
  },
  {
   "cell_type": "code",
   "execution_count": 27,
   "id": "281f0b97",
   "metadata": {
    "execution": {
     "iopub.execute_input": "2024-08-16T22:10:01.907190Z",
     "iopub.status.busy": "2024-08-16T22:10:01.906056Z",
     "iopub.status.idle": "2024-08-16T22:10:01.925875Z",
     "shell.execute_reply": "2024-08-16T22:10:01.924729Z"
    },
    "papermill": {
     "duration": 0.051574,
     "end_time": "2024-08-16T22:10:01.928985",
     "exception": false,
     "start_time": "2024-08-16T22:10:01.877411",
     "status": "completed"
    },
    "tags": []
   },
   "outputs": [],
   "source": [
    "imputer = SimpleImputer()\n",
    "x_train= pd.DataFrame(imputer.fit_transform(x_train),columns=x_train.columns )\n",
    "x_test= pd.DataFrame(imputer.transform(x_test),columns=x_test.columns )\n",
    "test_data= pd.DataFrame(imputer.transform(test_data),columns=test_data.columns )"
   ]
  },
  {
   "cell_type": "code",
   "execution_count": 28,
   "id": "930ebaf3",
   "metadata": {
    "execution": {
     "iopub.execute_input": "2024-08-16T22:10:01.983986Z",
     "iopub.status.busy": "2024-08-16T22:10:01.983568Z",
     "iopub.status.idle": "2024-08-16T22:10:02.004316Z",
     "shell.execute_reply": "2024-08-16T22:10:02.003090Z"
    },
    "papermill": {
     "duration": 0.051895,
     "end_time": "2024-08-16T22:10:02.006905",
     "exception": false,
     "start_time": "2024-08-16T22:10:01.955010",
     "status": "completed"
    },
    "tags": []
   },
   "outputs": [
    {
     "data": {
      "text/html": [
       "<div>\n",
       "<style scoped>\n",
       "    .dataframe tbody tr th:only-of-type {\n",
       "        vertical-align: middle;\n",
       "    }\n",
       "\n",
       "    .dataframe tbody tr th {\n",
       "        vertical-align: top;\n",
       "    }\n",
       "\n",
       "    .dataframe thead th {\n",
       "        text-align: right;\n",
       "    }\n",
       "</style>\n",
       "<table border=\"1\" class=\"dataframe\">\n",
       "  <thead>\n",
       "    <tr style=\"text-align: right;\">\n",
       "      <th></th>\n",
       "      <th>Latitude</th>\n",
       "      <th>Longitude</th>\n",
       "      <th>Time_Occurred</th>\n",
       "      <th>Area_ID</th>\n",
       "      <th>Reporting_District_no</th>\n",
       "      <th>Part 1-2</th>\n",
       "      <th>Victim_Age</th>\n",
       "      <th>Premise_Code</th>\n",
       "      <th>Weapon_Used_Code</th>\n",
       "    </tr>\n",
       "  </thead>\n",
       "  <tbody>\n",
       "    <tr>\n",
       "      <th>0</th>\n",
       "      <td>34.1940</td>\n",
       "      <td>-118.3790</td>\n",
       "      <td>1500.0</td>\n",
       "      <td>15.0</td>\n",
       "      <td>1516.0</td>\n",
       "      <td>1.0</td>\n",
       "      <td>0.0</td>\n",
       "      <td>101.0</td>\n",
       "      <td>366.249657</td>\n",
       "    </tr>\n",
       "    <tr>\n",
       "      <th>1</th>\n",
       "      <td>34.1576</td>\n",
       "      <td>-118.4122</td>\n",
       "      <td>1730.0</td>\n",
       "      <td>9.0</td>\n",
       "      <td>969.0</td>\n",
       "      <td>1.0</td>\n",
       "      <td>30.0</td>\n",
       "      <td>123.0</td>\n",
       "      <td>366.249657</td>\n",
       "    </tr>\n",
       "    <tr>\n",
       "      <th>2</th>\n",
       "      <td>33.7932</td>\n",
       "      <td>-118.2659</td>\n",
       "      <td>1700.0</td>\n",
       "      <td>5.0</td>\n",
       "      <td>515.0</td>\n",
       "      <td>1.0</td>\n",
       "      <td>40.0</td>\n",
       "      <td>101.0</td>\n",
       "      <td>366.249657</td>\n",
       "    </tr>\n",
       "    <tr>\n",
       "      <th>3</th>\n",
       "      <td>33.9665</td>\n",
       "      <td>-118.2993</td>\n",
       "      <td>930.0</td>\n",
       "      <td>12.0</td>\n",
       "      <td>1265.0</td>\n",
       "      <td>2.0</td>\n",
       "      <td>56.0</td>\n",
       "      <td>501.0</td>\n",
       "      <td>366.249657</td>\n",
       "    </tr>\n",
       "    <tr>\n",
       "      <th>4</th>\n",
       "      <td>33.9974</td>\n",
       "      <td>-118.2982</td>\n",
       "      <td>1214.0</td>\n",
       "      <td>12.0</td>\n",
       "      <td>1205.0</td>\n",
       "      <td>2.0</td>\n",
       "      <td>43.0</td>\n",
       "      <td>501.0</td>\n",
       "      <td>366.249657</td>\n",
       "    </tr>\n",
       "  </tbody>\n",
       "</table>\n",
       "</div>"
      ],
      "text/plain": [
       "   Latitude  Longitude  Time_Occurred  Area_ID  Reporting_District_no  \\\n",
       "0   34.1940  -118.3790         1500.0     15.0                 1516.0   \n",
       "1   34.1576  -118.4122         1730.0      9.0                  969.0   \n",
       "2   33.7932  -118.2659         1700.0      5.0                  515.0   \n",
       "3   33.9665  -118.2993          930.0     12.0                 1265.0   \n",
       "4   33.9974  -118.2982         1214.0     12.0                 1205.0   \n",
       "\n",
       "   Part 1-2  Victim_Age  Premise_Code  Weapon_Used_Code  \n",
       "0       1.0         0.0         101.0        366.249657  \n",
       "1       1.0        30.0         123.0        366.249657  \n",
       "2       1.0        40.0         101.0        366.249657  \n",
       "3       2.0        56.0         501.0        366.249657  \n",
       "4       2.0        43.0         501.0        366.249657  "
      ]
     },
     "execution_count": 28,
     "metadata": {},
     "output_type": "execute_result"
    }
   ],
   "source": [
    "x_train.head()"
   ]
  },
  {
   "cell_type": "code",
   "execution_count": 29,
   "id": "c9cce8ab",
   "metadata": {
    "execution": {
     "iopub.execute_input": "2024-08-16T22:10:02.061605Z",
     "iopub.status.busy": "2024-08-16T22:10:02.061183Z",
     "iopub.status.idle": "2024-08-16T22:10:02.082036Z",
     "shell.execute_reply": "2024-08-16T22:10:02.080912Z"
    },
    "papermill": {
     "duration": 0.051153,
     "end_time": "2024-08-16T22:10:02.084718",
     "exception": false,
     "start_time": "2024-08-16T22:10:02.033565",
     "status": "completed"
    },
    "tags": []
   },
   "outputs": [
    {
     "data": {
      "text/html": [
       "<div>\n",
       "<style scoped>\n",
       "    .dataframe tbody tr th:only-of-type {\n",
       "        vertical-align: middle;\n",
       "    }\n",
       "\n",
       "    .dataframe tbody tr th {\n",
       "        vertical-align: top;\n",
       "    }\n",
       "\n",
       "    .dataframe thead th {\n",
       "        text-align: right;\n",
       "    }\n",
       "</style>\n",
       "<table border=\"1\" class=\"dataframe\">\n",
       "  <thead>\n",
       "    <tr style=\"text-align: right;\">\n",
       "      <th></th>\n",
       "      <th>Latitude</th>\n",
       "      <th>Longitude</th>\n",
       "      <th>Time_Occurred</th>\n",
       "      <th>Area_ID</th>\n",
       "      <th>Reporting_District_no</th>\n",
       "      <th>Part 1-2</th>\n",
       "      <th>Victim_Age</th>\n",
       "      <th>Premise_Code</th>\n",
       "      <th>Weapon_Used_Code</th>\n",
       "    </tr>\n",
       "  </thead>\n",
       "  <tbody>\n",
       "    <tr>\n",
       "      <th>0</th>\n",
       "      <td>34.0128</td>\n",
       "      <td>-118.3045</td>\n",
       "      <td>2000.0</td>\n",
       "      <td>3.0</td>\n",
       "      <td>376.0</td>\n",
       "      <td>2.0</td>\n",
       "      <td>28.0</td>\n",
       "      <td>501.0</td>\n",
       "      <td>400.000000</td>\n",
       "    </tr>\n",
       "    <tr>\n",
       "      <th>1</th>\n",
       "      <td>34.0726</td>\n",
       "      <td>-118.3029</td>\n",
       "      <td>1700.0</td>\n",
       "      <td>20.0</td>\n",
       "      <td>2014.0</td>\n",
       "      <td>1.0</td>\n",
       "      <td>26.0</td>\n",
       "      <td>502.0</td>\n",
       "      <td>366.249657</td>\n",
       "    </tr>\n",
       "    <tr>\n",
       "      <th>2</th>\n",
       "      <td>33.9348</td>\n",
       "      <td>-118.2695</td>\n",
       "      <td>900.0</td>\n",
       "      <td>18.0</td>\n",
       "      <td>1844.0</td>\n",
       "      <td>2.0</td>\n",
       "      <td>62.0</td>\n",
       "      <td>721.0</td>\n",
       "      <td>366.249657</td>\n",
       "    </tr>\n",
       "    <tr>\n",
       "      <th>3</th>\n",
       "      <td>34.0497</td>\n",
       "      <td>-118.3442</td>\n",
       "      <td>2200.0</td>\n",
       "      <td>7.0</td>\n",
       "      <td>765.0</td>\n",
       "      <td>1.0</td>\n",
       "      <td>0.0</td>\n",
       "      <td>108.0</td>\n",
       "      <td>366.249657</td>\n",
       "    </tr>\n",
       "    <tr>\n",
       "      <th>4</th>\n",
       "      <td>34.1611</td>\n",
       "      <td>-118.3704</td>\n",
       "      <td>130.0</td>\n",
       "      <td>15.0</td>\n",
       "      <td>1555.0</td>\n",
       "      <td>2.0</td>\n",
       "      <td>37.0</td>\n",
       "      <td>501.0</td>\n",
       "      <td>366.249657</td>\n",
       "    </tr>\n",
       "  </tbody>\n",
       "</table>\n",
       "</div>"
      ],
      "text/plain": [
       "   Latitude  Longitude  Time_Occurred  Area_ID  Reporting_District_no  \\\n",
       "0   34.0128  -118.3045         2000.0      3.0                  376.0   \n",
       "1   34.0726  -118.3029         1700.0     20.0                 2014.0   \n",
       "2   33.9348  -118.2695          900.0     18.0                 1844.0   \n",
       "3   34.0497  -118.3442         2200.0      7.0                  765.0   \n",
       "4   34.1611  -118.3704          130.0     15.0                 1555.0   \n",
       "\n",
       "   Part 1-2  Victim_Age  Premise_Code  Weapon_Used_Code  \n",
       "0       2.0        28.0         501.0        400.000000  \n",
       "1       1.0        26.0         502.0        366.249657  \n",
       "2       2.0        62.0         721.0        366.249657  \n",
       "3       1.0         0.0         108.0        366.249657  \n",
       "4       2.0        37.0         501.0        366.249657  "
      ]
     },
     "execution_count": 29,
     "metadata": {},
     "output_type": "execute_result"
    }
   ],
   "source": [
    "test_data.head()"
   ]
  },
  {
   "cell_type": "markdown",
   "id": "4559cc2b",
   "metadata": {
    "papermill": {
     "duration": 0.026751,
     "end_time": "2024-08-16T22:10:02.138077",
     "exception": false,
     "start_time": "2024-08-16T22:10:02.111326",
     "status": "completed"
    },
    "tags": []
   },
   "source": [
    "# **Modeling**"
   ]
  },
  {
   "cell_type": "code",
   "execution_count": 30,
   "id": "08ca8427",
   "metadata": {
    "execution": {
     "iopub.execute_input": "2024-08-16T22:10:02.194508Z",
     "iopub.status.busy": "2024-08-16T22:10:02.193588Z",
     "iopub.status.idle": "2024-08-16T22:10:02.198723Z",
     "shell.execute_reply": "2024-08-16T22:10:02.197552Z"
    },
    "papermill": {
     "duration": 0.036577,
     "end_time": "2024-08-16T22:10:02.201326",
     "exception": false,
     "start_time": "2024-08-16T22:10:02.164749",
     "status": "completed"
    },
    "tags": []
   },
   "outputs": [],
   "source": [
    " models={}"
   ]
  },
  {
   "cell_type": "markdown",
   "id": "c78c464a",
   "metadata": {
    "papermill": {
     "duration": 0.026288,
     "end_time": "2024-08-16T22:10:02.254358",
     "exception": false,
     "start_time": "2024-08-16T22:10:02.228070",
     "status": "completed"
    },
    "tags": []
   },
   "source": [
    "# --> LogisticRegression"
   ]
  },
  {
   "cell_type": "code",
   "execution_count": 31,
   "id": "00e0d7c5",
   "metadata": {
    "execution": {
     "iopub.execute_input": "2024-08-16T22:10:02.310688Z",
     "iopub.status.busy": "2024-08-16T22:10:02.310267Z",
     "iopub.status.idle": "2024-08-16T22:10:12.210839Z",
     "shell.execute_reply": "2024-08-16T22:10:12.209307Z"
    },
    "papermill": {
     "duration": 9.935366,
     "end_time": "2024-08-16T22:10:12.216610",
     "exception": false,
     "start_time": "2024-08-16T22:10:02.281244",
     "status": "completed"
    },
    "tags": []
   },
   "outputs": [],
   "source": [
    "# Defining the model\n",
    "lr_model = LogisticRegression(max_iter=10000, random_state=42, C= 10, penalty= 'l1', solver= 'liblinear')\n",
    "# # Defining the hyperparameter grid\n",
    "# param_grid = {\n",
    "#     'C': [ 0.1, 1, 10],\n",
    "#     'penalty': ['l1', 'l2'],\n",
    "#     'solver': ['liblinear', 'saga']\n",
    "# }\n",
    "# # setup GridSearchCV\n",
    "# grid_search = GridSearchCV(estimator=lr_model, param_grid=param_grid, cv=5, scoring='accuracy', n_jobs=-1, verbose=1)\n",
    "# # fit GridSearchCV\n",
    "# grid_search.fit(x_train, y_train)\n",
    "\n",
    "# # Output the best parameters and best score\n",
    "# best_params = grid_search.best_params_\n",
    "# best_score = grid_search.best_score_\n",
    "# print(\"Best Parameters:\", best_params)\n",
    "# print(\"Best Accuracy:\", best_score)\n",
    "lr_model.fit(x_train, y_train)\n",
    "y_pred_lr = lr_model.predict(x_test)\n",
    "models[\"lr_model\"]=lr_model"
   ]
  },
  {
   "cell_type": "code",
   "execution_count": 32,
   "id": "45dd4e7c",
   "metadata": {
    "execution": {
     "iopub.execute_input": "2024-08-16T22:10:12.330765Z",
     "iopub.status.busy": "2024-08-16T22:10:12.330344Z",
     "iopub.status.idle": "2024-08-16T22:10:12.335608Z",
     "shell.execute_reply": "2024-08-16T22:10:12.334350Z"
    },
    "papermill": {
     "duration": 0.065915,
     "end_time": "2024-08-16T22:10:12.338531",
     "exception": false,
     "start_time": "2024-08-16T22:10:12.272616",
     "status": "completed"
    },
    "tags": []
   },
   "outputs": [],
   "source": [
    "# Best Parameters: {'C': 10, 'penalty': 'l1', 'solver': 'liblinear'}\n",
    "# Best Accuracy: 0.6361428571428572"
   ]
  },
  {
   "cell_type": "markdown",
   "id": "0f1e5719",
   "metadata": {
    "papermill": {
     "duration": 0.026135,
     "end_time": "2024-08-16T22:10:12.391542",
     "exception": false,
     "start_time": "2024-08-16T22:10:12.365407",
     "status": "completed"
    },
    "tags": []
   },
   "source": [
    "# --> DecisionTreeClassifier"
   ]
  },
  {
   "cell_type": "code",
   "execution_count": 33,
   "id": "3f839478",
   "metadata": {
    "execution": {
     "iopub.execute_input": "2024-08-16T22:10:12.446810Z",
     "iopub.status.busy": "2024-08-16T22:10:12.446360Z",
     "iopub.status.idle": "2024-08-16T22:10:12.513913Z",
     "shell.execute_reply": "2024-08-16T22:10:12.512763Z"
    },
    "papermill": {
     "duration": 0.098603,
     "end_time": "2024-08-16T22:10:12.516766",
     "exception": false,
     "start_time": "2024-08-16T22:10:12.418163",
     "status": "completed"
    },
    "tags": []
   },
   "outputs": [],
   "source": [
    "# # Defining the model\n",
    "tree_model= DecisionTreeClassifier(criterion='entropy', max_depth=6, min_samples_leaf=4, min_samples_split=5)\n",
    "# # Defining the hyperparameter grid\n",
    "# param_grid = {\n",
    "#     'criterion': ['gini', 'entropy'],\n",
    "#     'max_depth': [6, 10, 20, 30, 40, 50],\n",
    "#     'min_samples_split': [2, 5, 10],\n",
    "#     'min_samples_leaf': [1, 2, 4],\n",
    "#     'max_features': [None, 'sqrt', 'log2']\n",
    "# }\n",
    "# # setup GridSearchCV\n",
    "# grid_search = GridSearchCV(estimator=tree_model, param_grid=param_grid, cv=5, scoring='accuracy', n_jobs=-1, verbose=2)\n",
    "# # fit GridSearchCV \n",
    "# grid_search.fit(x_train, y_train)\n",
    "\n",
    "# # Output the best parameters and best score\n",
    "# best_params = grid_search.best_params_\n",
    "# best_score = grid_search.best_score_\n",
    "# print(\"Best Parameters:\", best_params)\n",
    "# print(\"Best Accuracy:\", best_score)\n",
    "\n",
    "tree_model.fit(x_train, y_train)\n",
    "y_pred_tree = tree_model.predict(x_test)\n",
    "models[\"tree_model\"]=tree_model"
   ]
  },
  {
   "cell_type": "code",
   "execution_count": 34,
   "id": "0553c9f9",
   "metadata": {
    "execution": {
     "iopub.execute_input": "2024-08-16T22:10:12.572530Z",
     "iopub.status.busy": "2024-08-16T22:10:12.571363Z",
     "iopub.status.idle": "2024-08-16T22:10:12.576689Z",
     "shell.execute_reply": "2024-08-16T22:10:12.575536Z"
    },
    "papermill": {
     "duration": 0.036254,
     "end_time": "2024-08-16T22:10:12.579641",
     "exception": false,
     "start_time": "2024-08-16T22:10:12.543387",
     "status": "completed"
    },
    "tags": []
   },
   "outputs": [],
   "source": [
    "# Best Parameters: {'criterion': 'entropy', 'max_depth': 6, 'max_features': None, 'min_samples_leaf': 4, 'min_samples_split': 5}\n",
    "# Best Accuracy: 0.8272857142857143\n"
   ]
  },
  {
   "cell_type": "markdown",
   "id": "1aab16bd",
   "metadata": {
    "papermill": {
     "duration": 0.02688,
     "end_time": "2024-08-16T22:10:12.633173",
     "exception": false,
     "start_time": "2024-08-16T22:10:12.606293",
     "status": "completed"
    },
    "tags": []
   },
   "source": [
    "# --> RandomForestClassifer"
   ]
  },
  {
   "cell_type": "code",
   "execution_count": 35,
   "id": "54b3addf",
   "metadata": {
    "execution": {
     "iopub.execute_input": "2024-08-16T22:10:12.687675Z",
     "iopub.status.busy": "2024-08-16T22:10:12.687247Z",
     "iopub.status.idle": "2024-08-16T22:10:18.184263Z",
     "shell.execute_reply": "2024-08-16T22:10:18.183273Z"
    },
    "papermill": {
     "duration": 5.527603,
     "end_time": "2024-08-16T22:10:18.187154",
     "exception": false,
     "start_time": "2024-08-16T22:10:12.659551",
     "status": "completed"
    },
    "tags": []
   },
   "outputs": [],
   "source": [
    "# # Defining the model\n",
    "rf_model= RandomForestClassifier(bootstrap=True, max_depth= 10, min_samples_leaf= 1, min_samples_split= 10, n_estimators= 256,random_state=42)\n",
    "# # Defining the hyperparameter distribution\n",
    "# param_dist = {\n",
    "#     'n_estimators': randint(100, 500),\n",
    "#     'max_depth': [None, 10, 20, 30, 40, 50],\n",
    "#     'min_samples_split': randint(2, 11),\n",
    "#     'min_samples_leaf': randint(1, 5),\n",
    "#     'bootstrap': [True, False]\n",
    "# }\n",
    "# # setup RandomizedSearchCV\n",
    "# random_search = RandomizedSearchCV(estimator=rf_model, param_distributions=param_dist, n_iter=100, cv=5, scoring='accuracy', n_jobs=-1, verbose=2, random_state=42)\n",
    "# # fit RandomizedSearchCV\n",
    "# random_search.fit(x_train, y_train)\n",
    "\n",
    "# # Output the best parameters and best score\n",
    "# best_params= random_search.best_params_\n",
    "# best_score = random_search.best_score_\n",
    "# print(\"Best Parameters:\", best_params)\n",
    "# print(\"Best Accuracy:\", best_score)\n",
    "\n",
    "rf_model.fit(x_train, y_train)\n",
    "y_pred_rf = rf_model.predict(x_test)\n",
    "models[\"rf_model\"]= rf_model"
   ]
  },
  {
   "cell_type": "code",
   "execution_count": 36,
   "id": "9e0b0bb7",
   "metadata": {
    "execution": {
     "iopub.execute_input": "2024-08-16T22:10:18.242360Z",
     "iopub.status.busy": "2024-08-16T22:10:18.241871Z",
     "iopub.status.idle": "2024-08-16T22:10:18.246888Z",
     "shell.execute_reply": "2024-08-16T22:10:18.245705Z"
    },
    "papermill": {
     "duration": 0.035677,
     "end_time": "2024-08-16T22:10:18.249351",
     "exception": false,
     "start_time": "2024-08-16T22:10:18.213674",
     "status": "completed"
    },
    "tags": []
   },
   "outputs": [],
   "source": [
    "# Best Parameters: {'bootstrap': True, 'max_depth': 10, 'min_samples_leaf': 1, 'min_samples_split': 10, 'n_estimators': 256}\n",
    "# Best Accuracy: 0.8379285714285715"
   ]
  },
  {
   "cell_type": "markdown",
   "id": "f7371cbe",
   "metadata": {
    "papermill": {
     "duration": 0.026007,
     "end_time": "2024-08-16T22:10:18.302079",
     "exception": false,
     "start_time": "2024-08-16T22:10:18.276072",
     "status": "completed"
    },
    "tags": []
   },
   "source": [
    "# **Model Evaluation**"
   ]
  },
  {
   "cell_type": "code",
   "execution_count": 37,
   "id": "ea13a1e4",
   "metadata": {
    "execution": {
     "iopub.execute_input": "2024-08-16T22:10:18.357288Z",
     "iopub.status.busy": "2024-08-16T22:10:18.356846Z",
     "iopub.status.idle": "2024-08-16T22:10:18.362692Z",
     "shell.execute_reply": "2024-08-16T22:10:18.361396Z"
    },
    "papermill": {
     "duration": 0.036634,
     "end_time": "2024-08-16T22:10:18.365284",
     "exception": false,
     "start_time": "2024-08-16T22:10:18.328650",
     "status": "completed"
    },
    "tags": []
   },
   "outputs": [],
   "source": [
    "def accuracy(y_true, y_preds):\n",
    "   return (y_true==y_preds).sum()/len(y_true)"
   ]
  },
  {
   "cell_type": "code",
   "execution_count": 38,
   "id": "62f1b011",
   "metadata": {
    "execution": {
     "iopub.execute_input": "2024-08-16T22:10:18.419851Z",
     "iopub.status.busy": "2024-08-16T22:10:18.419433Z",
     "iopub.status.idle": "2024-08-16T22:10:18.703396Z",
     "shell.execute_reply": "2024-08-16T22:10:18.702099Z"
    },
    "papermill": {
     "duration": 0.314139,
     "end_time": "2024-08-16T22:10:18.706054",
     "exception": false,
     "start_time": "2024-08-16T22:10:18.391915",
     "status": "completed"
    },
    "tags": []
   },
   "outputs": [
    {
     "data": {
      "text/plain": [
       "{'lr_model': 0.6315, 'tree_model': 0.8353333333333334, 'rf_model': 0.845}"
      ]
     },
     "execution_count": 38,
     "metadata": {},
     "output_type": "execute_result"
    }
   ],
   "source": [
    "acc={m: accuracy(y_test, models[m].predict(x_test))for m in models}\n",
    "acc"
   ]
  },
  {
   "cell_type": "code",
   "execution_count": 39,
   "id": "3049bc58",
   "metadata": {
    "execution": {
     "iopub.execute_input": "2024-08-16T22:10:18.760891Z",
     "iopub.status.busy": "2024-08-16T22:10:18.760447Z",
     "iopub.status.idle": "2024-08-16T22:10:18.768158Z",
     "shell.execute_reply": "2024-08-16T22:10:18.766870Z"
    },
    "papermill": {
     "duration": 0.038497,
     "end_time": "2024-08-16T22:10:18.771021",
     "exception": false,
     "start_time": "2024-08-16T22:10:18.732524",
     "status": "completed"
    },
    "tags": []
   },
   "outputs": [
    {
     "data": {
      "text/plain": [
       "'rf_model'"
      ]
     },
     "execution_count": 39,
     "metadata": {},
     "output_type": "execute_result"
    }
   ],
   "source": [
    "best_model= max(acc, key=lambda x: acc[x])\n",
    "best_model"
   ]
  },
  {
   "cell_type": "code",
   "execution_count": 40,
   "id": "67297ef6",
   "metadata": {
    "execution": {
     "iopub.execute_input": "2024-08-16T22:10:18.828780Z",
     "iopub.status.busy": "2024-08-16T22:10:18.827707Z",
     "iopub.status.idle": "2024-08-16T22:10:20.306905Z",
     "shell.execute_reply": "2024-08-16T22:10:20.305744Z"
    },
    "papermill": {
     "duration": 1.510206,
     "end_time": "2024-08-16T22:10:20.309859",
     "exception": false,
     "start_time": "2024-08-16T22:10:18.799653",
     "status": "completed"
    },
    "tags": []
   },
   "outputs": [
    {
     "name": "stdout",
     "output_type": "stream",
     "text": [
      "Logistic Regression Classification Report:\n",
      "              precision    recall  f1-score   support\n",
      "\n",
      "           0       0.75      0.87      0.81      3461\n",
      "           1       0.40      0.52      0.45      1462\n",
      "           2       0.00      0.00      0.00       543\n",
      "           3       0.24      0.05      0.09       422\n",
      "           4       0.00      0.00      0.00        57\n",
      "           5       0.00      0.00      0.00        55\n",
      "\n",
      "    accuracy                           0.63      6000\n",
      "   macro avg       0.23      0.24      0.22      6000\n",
      "weighted avg       0.55      0.63      0.58      6000\n",
      "\n",
      "Logistic Regression Confusion Matrix:\n"
     ]
    },
    {
     "name": "stderr",
     "output_type": "stream",
     "text": [
      "/opt/conda/lib/python3.10/site-packages/sklearn/metrics/_classification.py:1344: UndefinedMetricWarning: Precision and F-score are ill-defined and being set to 0.0 in labels with no predicted samples. Use `zero_division` parameter to control this behavior.\n",
      "  _warn_prf(average, modifier, msg_start, len(result))\n",
      "/opt/conda/lib/python3.10/site-packages/sklearn/metrics/_classification.py:1344: UndefinedMetricWarning: Precision and F-score are ill-defined and being set to 0.0 in labels with no predicted samples. Use `zero_division` parameter to control this behavior.\n",
      "  _warn_prf(average, modifier, msg_start, len(result))\n",
      "/opt/conda/lib/python3.10/site-packages/sklearn/metrics/_classification.py:1344: UndefinedMetricWarning: Precision and F-score are ill-defined and being set to 0.0 in labels with no predicted samples. Use `zero_division` parameter to control this behavior.\n",
      "  _warn_prf(average, modifier, msg_start, len(result))\n"
     ]
    },
    {
     "data": {
      "image/png": "[encoded data removed]",
      "text/plain": [
       "<Figure size 640x480 with 2 Axes>"
      ]
     },
     "metadata": {},
     "output_type": "display_data"
    },
    {
     "name": "stdout",
     "output_type": "stream",
     "text": [
      " Decision Tree Classification Report:\n",
      "              precision    recall  f1-score   support\n",
      "\n",
      "           0       0.91      0.91      0.91      3461\n",
      "           1       0.81      0.89      0.85      1462\n",
      "           2       0.72      0.37      0.49       543\n",
      "           3       0.56      0.77      0.65       422\n",
      "           4       0.58      0.65      0.61        57\n",
      "           5       0.00      0.00      0.00        55\n",
      "\n",
      "    accuracy                           0.84      6000\n",
      "   macro avg       0.60      0.60      0.58      6000\n",
      "weighted avg       0.83      0.84      0.83      6000\n",
      "\n",
      " Decision Tree Confusion Matrix:\n"
     ]
    },
    {
     "name": "stderr",
     "output_type": "stream",
     "text": [
      "/opt/conda/lib/python3.10/site-packages/sklearn/metrics/_classification.py:1344: UndefinedMetricWarning: Precision and F-score are ill-defined and being set to 0.0 in labels with no predicted samples. Use `zero_division` parameter to control this behavior.\n",
      "  _warn_prf(average, modifier, msg_start, len(result))\n",
      "/opt/conda/lib/python3.10/site-packages/sklearn/metrics/_classification.py:1344: UndefinedMetricWarning: Precision and F-score are ill-defined and being set to 0.0 in labels with no predicted samples. Use `zero_division` parameter to control this behavior.\n",
      "  _warn_prf(average, modifier, msg_start, len(result))\n",
      "/opt/conda/lib/python3.10/site-packages/sklearn/metrics/_classification.py:1344: UndefinedMetricWarning: Precision and F-score are ill-defined and being set to 0.0 in labels with no predicted samples. Use `zero_division` parameter to control this behavior.\n",
      "  _warn_prf(average, modifier, msg_start, len(result))\n"
     ]
    },
    {
     "data": {
      "image/png": "[encoded data removed]",
      "text/plain": [
       "<Figure size 640x480 with 2 Axes>"
      ]
     },
     "metadata": {},
     "output_type": "display_data"
    },
    {
     "name": "stdout",
     "output_type": "stream",
     "text": [
      "Random Forest Classification Report:\n",
      "              precision    recall  f1-score   support\n",
      "\n",
      "           0       0.90      0.92      0.91      3461\n",
      "           1       0.82      0.89      0.85      1462\n",
      "           2       0.77      0.38      0.51       543\n",
      "           3       0.60      0.78      0.67       422\n",
      "           4       0.68      0.49      0.57        57\n",
      "           5       0.50      0.02      0.04        55\n",
      "\n",
      "    accuracy                           0.84      6000\n",
      "   macro avg       0.71      0.58      0.59      6000\n",
      "weighted avg       0.84      0.84      0.83      6000\n",
      "\n",
      "Random Forest Confusion Matrix:\n"
     ]
    },
    {
     "data": {
      "image/png": "[encoded data removed]",
      "text/plain": [
       "<Figure size 640x480 with 2 Axes>"
      ]
     },
     "metadata": {},
     "output_type": "display_data"
    }
   ],
   "source": [
    "# Classification Report and Confusion Matrix for Logistic Regression\n",
    "print(\"Logistic Regression Classification Report:\")\n",
    "print(classification_report(y_test, y_pred_lr))\n",
    "\n",
    "print(\"Logistic Regression Confusion Matrix:\")\n",
    "lr_confusion = confusion_matrix(y_test, y_pred_lr)\n",
    "sns.heatmap(lr_confusion, annot=True, fmt='d', cmap='Blues')\n",
    "plt.title(\"Logistic Regression Confusion Matrix\")\n",
    "plt.xlabel(\"Predicted\")\n",
    "plt.ylabel(\"Actual\")\n",
    "plt.show()\n",
    "\n",
    "# Classification Report and Confusion Matrix for Decision Tree\n",
    "print(\" Decision Tree Classification Report:\")\n",
    "print(classification_report(y_test, y_pred_tree))\n",
    "\n",
    "print(\" Decision Tree Confusion Matrix:\")\n",
    "tree_confusion = confusion_matrix(y_test, y_pred_tree)\n",
    "sns.heatmap(tree_confusion, annot=True, fmt='d', cmap='Blues')\n",
    "plt.title(\" Decision Tree Confusion Matrix\")\n",
    "plt.xlabel(\"Predicted\")\n",
    "plt.ylabel(\"Actual\")\n",
    "plt.show()\n",
    "\n",
    "# Classification Report and Confusion Matrix for Random Forest\n",
    "print(\"Random Forest Classification Report:\")\n",
    "print(classification_report(y_test, y_pred_rf))\n",
    "\n",
    "print(\"Random Forest Confusion Matrix:\")\n",
    "rf_confusion = confusion_matrix(y_test, y_pred_rf)\n",
    "sns.heatmap(rf_confusion, annot=True, fmt='d', cmap='Blues')\n",
    "plt.title(\"Random Forest Confusion Matrix\")\n",
    "plt.xlabel(\"Predicted\")\n",
    "plt.ylabel(\"Actual\")\n",
    "plt.show()"
   ]
  },
  {
   "cell_type": "markdown",
   "id": "0dd33cb3",
   "metadata": {
    "papermill": {
     "duration": 0.030884,
     "end_time": "2024-08-16T22:10:20.370549",
     "exception": false,
     "start_time": "2024-08-16T22:10:20.339665",
     "status": "completed"
    },
    "tags": []
   },
   "source": [
    "# **Prediction**"
   ]
  },
  {
   "cell_type": "code",
   "execution_count": 41,
   "id": "e977ec60",
   "metadata": {
    "execution": {
     "iopub.execute_input": "2024-08-16T22:10:20.432489Z",
     "iopub.status.busy": "2024-08-16T22:10:20.432081Z",
     "iopub.status.idle": "2024-08-16T22:10:20.637871Z",
     "shell.execute_reply": "2024-08-16T22:10:20.636544Z"
    },
    "papermill": {
     "duration": 0.23986,
     "end_time": "2024-08-16T22:10:20.640697",
     "exception": false,
     "start_time": "2024-08-16T22:10:20.400837",
     "status": "completed"
    },
    "tags": []
   },
   "outputs": [
    {
     "data": {
      "text/plain": [
       "array([1, 0, 3, ..., 1, 1, 0])"
      ]
     },
     "execution_count": 41,
     "metadata": {},
     "output_type": "execute_result"
    }
   ],
   "source": [
    "test_pred= models[best_model].predict(test_data)\n",
    "test_pred"
   ]
  },
  {
   "cell_type": "markdown",
   "id": "099b4e1a",
   "metadata": {
    "papermill": {
     "duration": 0.02929,
     "end_time": "2024-08-16T22:10:20.699705",
     "exception": false,
     "start_time": "2024-08-16T22:10:20.670415",
     "status": "completed"
    },
    "tags": []
   },
   "source": [
    "# **Output**"
   ]
  },
  {
   "cell_type": "code",
   "execution_count": 42,
   "id": "c2df98a3",
   "metadata": {
    "execution": {
     "iopub.execute_input": "2024-08-16T22:10:20.760882Z",
     "iopub.status.busy": "2024-08-16T22:10:20.760500Z",
     "iopub.status.idle": "2024-08-16T22:10:20.769744Z",
     "shell.execute_reply": "2024-08-16T22:10:20.768550Z"
    },
    "papermill": {
     "duration": 0.042808,
     "end_time": "2024-08-16T22:10:20.772246",
     "exception": false,
     "start_time": "2024-08-16T22:10:20.729438",
     "status": "completed"
    },
    "tags": []
   },
   "outputs": [],
   "source": [
    "output= pd.DataFrame(\n",
    "    {\n",
    "        \"ID\": test_data.index+1,\n",
    "        \"Crime_Category\": test_pred\n",
    "    }\n",
    ")\n",
    "output[\"Crime_Category\"]= output[\"Crime_Category\"].map(lambda x: y_labels[x])"
   ]
  },
  {
   "cell_type": "code",
   "execution_count": 43,
   "id": "fd8014e3",
   "metadata": {
    "execution": {
     "iopub.execute_input": "2024-08-16T22:10:20.836328Z",
     "iopub.status.busy": "2024-08-16T22:10:20.835333Z",
     "iopub.status.idle": "2024-08-16T22:10:20.846871Z",
     "shell.execute_reply": "2024-08-16T22:10:20.845381Z"
    },
    "papermill": {
     "duration": 0.045409,
     "end_time": "2024-08-16T22:10:20.849568",
     "exception": false,
     "start_time": "2024-08-16T22:10:20.804159",
     "status": "completed"
    },
    "tags": []
   },
   "outputs": [
    {
     "data": {
      "text/html": [
       "<div>\n",
       "<style scoped>\n",
       "    .dataframe tbody tr th:only-of-type {\n",
       "        vertical-align: middle;\n",
       "    }\n",
       "\n",
       "    .dataframe tbody tr th {\n",
       "        vertical-align: top;\n",
       "    }\n",
       "\n",
       "    .dataframe thead th {\n",
       "        text-align: right;\n",
       "    }\n",
       "</style>\n",
       "<table border=\"1\" class=\"dataframe\">\n",
       "  <thead>\n",
       "    <tr style=\"text-align: right;\">\n",
       "      <th></th>\n",
       "      <th>ID</th>\n",
       "      <th>Crime_Category</th>\n",
       "    </tr>\n",
       "  </thead>\n",
       "  <tbody>\n",
       "    <tr>\n",
       "      <th>0</th>\n",
       "      <td>1</td>\n",
       "      <td>Violent Crimes</td>\n",
       "    </tr>\n",
       "    <tr>\n",
       "      <th>1</th>\n",
       "      <td>2</td>\n",
       "      <td>Property Crimes</td>\n",
       "    </tr>\n",
       "    <tr>\n",
       "      <th>2</th>\n",
       "      <td>3</td>\n",
       "      <td>Fraud and White-Collar Crimes</td>\n",
       "    </tr>\n",
       "    <tr>\n",
       "      <th>3</th>\n",
       "      <td>4</td>\n",
       "      <td>Property Crimes</td>\n",
       "    </tr>\n",
       "    <tr>\n",
       "      <th>4</th>\n",
       "      <td>5</td>\n",
       "      <td>Fraud and White-Collar Crimes</td>\n",
       "    </tr>\n",
       "  </tbody>\n",
       "</table>\n",
       "</div>"
      ],
      "text/plain": [
       "   ID                 Crime_Category\n",
       "0   1                 Violent Crimes\n",
       "1   2                Property Crimes\n",
       "2   3  Fraud and White-Collar Crimes\n",
       "3   4                Property Crimes\n",
       "4   5  Fraud and White-Collar Crimes"
      ]
     },
     "execution_count": 43,
     "metadata": {},
     "output_type": "execute_result"
    }
   ],
   "source": [
    "output.head()"
   ]
  },
  {
   "cell_type": "markdown",
   "id": "19bc8e11",
   "metadata": {
    "papermill": {
     "duration": 0.031126,
     "end_time": "2024-08-16T22:10:20.911733",
     "exception": false,
     "start_time": "2024-08-16T22:10:20.880607",
     "status": "completed"
    },
    "tags": []
   },
   "source": [
    "# **Submission**"
   ]
  },
  {
   "cell_type": "code",
   "execution_count": 44,
   "id": "1f6c0714",
   "metadata": {
    "execution": {
     "iopub.execute_input": "2024-08-16T22:10:20.972898Z",
     "iopub.status.busy": "2024-08-16T22:10:20.972508Z",
     "iopub.status.idle": "2024-08-16T22:10:20.991389Z",
     "shell.execute_reply": "2024-08-16T22:10:20.990285Z"
    },
    "papermill": {
     "duration": 0.053212,
     "end_time": "2024-08-16T22:10:20.994656",
     "exception": false,
     "start_time": "2024-08-16T22:10:20.941444",
     "status": "completed"
    },
    "tags": []
   },
   "outputs": [],
   "source": [
    "output.to_csv(\"./submission.csv\", index=False)"
   ]
  }
 ],
 "metadata": {
  "kaggle": {
   "accelerator": "none",
   "dataSources": [
    {
     "databundleVersionId": 8446444,
     "sourceId": 77420,
     "sourceType": "competition"
    }
   ],
   "dockerImageVersionId": 30732,
   "isGpuEnabled": false,
   "isInternetEnabled": false,
   "language": "python",
   "sourceType": "notebook"
  },
  "kernelspec": {
   "display_name": "Python 3",
   "language": "python",
   "name": "python3"
  },
  "language_info": {
   "codemirror_mode": {
    "name": "ipython",
    "version": 3
   },
   "file_extension": ".py",
   "mimetype": "text/x-python",
   "name": "python",
   "nbconvert_exporter": "python",
   "pygments_lexer": "ipython3",
   "version": "3.10.13"
  },
  "papermill": {
   "default_parameters": {},
   "duration": 30.864512,
   "end_time": "2024-08-16T22:10:21.749483",
   "environment_variables": {},
   "exception": null,
   "input_path": "__notebook__.ipynb",
   "output_path": "__notebook__.ipynb",
   "parameters": {},
   "start_time": "2024-08-16T22:09:50.884971",
   "version": "2.5.0"
  }
 },
 "nbformat": 4,
 "nbformat_minor": 5
}
